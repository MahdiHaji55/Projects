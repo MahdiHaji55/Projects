{
 "cells": [
  {
   "cell_type": "markdown",
   "metadata": {},
   "source": [
    "## UVic: Department of Computer Science\n",
    "## CSC 110 Fundamentals of Programming I (Spring 2022)\n",
    "\n",
    "* Lab 4: Week of February 7\n",
    "* All of your participation screenshots must be submitted to Brightspace by Sunday, 13th of February, 11:55 pm."
   ]
  },
  {
   "cell_type": "markdown",
   "metadata": {},
   "source": [
    "### This lab will cover the following topics\n",
    "\n",
    "- for loops\n",
    "- nested loops"
   ]
  },
  {
   "cell_type": "markdown",
   "metadata": {},
   "source": [
    "### Exercise 1: On the board\n",
    "\n",
    "The lab instructor will use the room's whiteboard to write out two examples of `for` loops.\n",
    "\n",
    "Without typing the code into `jhub.csc`, use paper and pen/pencil to hand-execute the code and determine what is output.\n",
    "\n",
    "This activity is called \"code tracing\" and is an important skill to develop. **Only after you have attempt to hand-execute the code** should you try entering the code on the board into `jhub.csc`."
   ]
  },
  {
   "cell_type": "code",
   "execution_count": 2,
   "metadata": {},
   "outputs": [],
   "source": [
    "# A code cell for experimentation"
   ]
  },
  {
   "cell_type": "code",
   "execution_count": 1,
   "metadata": {},
   "outputs": [],
   "source": [
    "# A code cell for experimentation"
   ]
  },
  {
   "cell_type": "markdown",
   "metadata": {},
   "source": [
    "### Exercise 2: Other examples of the `range()` function\n",
    "\n",
    "(2a) What is the sequence produced by `range(5, 200, 14)` ?\n",
    "\n",
    "(2b) What is the sequence produced by `range(-10, -40, -5)` ?\n",
    "\n",
    "(2c) What is the sequence produced by `range(5, 20, -1)`?\n"
   ]
  },
  {
   "cell_type": "code",
   "execution_count": 3,
   "metadata": {},
   "outputs": [],
   "source": [
    "# A code cell for experimentation"
   ]
  },
  {
   "cell_type": "code",
   "execution_count": 4,
   "metadata": {},
   "outputs": [],
   "source": [
    "# A code cell for experimentation"
   ]
  },
  {
   "cell_type": "code",
   "execution_count": 5,
   "metadata": {},
   "outputs": [],
   "source": [
    "# A code cell for experimentation"
   ]
  },
  {
   "cell_type": "markdown",
   "metadata": {
    "tags": []
   },
   "source": [
    "### Exercise 3: Going backwards (from given numeric sequence to use of `range()`)\n",
    "\n",
    "**For this exercise, feel free to try to answer the question by writing and executing some code.**\n",
    "\n",
    "What parameters to `range()` are needed to create the sequence:\n",
    "\n",
    "(3a) `4 26 48 70 92 114 136 158 180 202 224 246 268`\n",
    "\n",
    "(3b) `280 260 240 220 200 180 160 140 120 100 80 60 40 20 4`\n",
    "\n",
    "(3c) `4, 26, 48, 70, 92, 114, 136, 158, 180, 202, 224, 246, 268, 280, 260, 240, 220, 200, 180, 160, 140, 120, 100, 80, 60, 40, 20, 4\n",
    "`"
   ]
  },
  {
   "cell_type": "code",
   "execution_count": 6,
   "metadata": {},
   "outputs": [],
   "source": [
    "# A code cell for experimentation"
   ]
  },
  {
   "cell_type": "code",
   "execution_count": 7,
   "metadata": {},
   "outputs": [],
   "source": [
    "# A code cell for experimentation"
   ]
  },
  {
   "cell_type": "code",
   "execution_count": 8,
   "metadata": {},
   "outputs": [],
   "source": [
    "# A code cell for experimentation"
   ]
  },
  {
   "cell_type": "markdown",
   "metadata": {},
   "source": [
    "### Exercise 4: On the board (again!)\n",
    "\n",
    "The lab instructor will use the room's whiteboard to write out two examples involving nested loops (one example using `while`, the other example using `for`).\n",
    "\n",
    "Without typing the code into `jhub.csc`, use paper and pen/pencil to hand-execute each example and determine what is output.\n",
    "\n",
    "This activity is called \"code tracing\" and is an important skill to develop. **Only after you have attempted to hand-execute the code** should you try entering the code on the board into `jhub.csc`."
   ]
  },
  {
   "cell_type": "code",
   "execution_count": 9,
   "metadata": {},
   "outputs": [],
   "source": [
    "# A code cell for experimentation"
   ]
  },
  {
   "cell_type": "code",
   "execution_count": 10,
   "metadata": {},
   "outputs": [],
   "source": [
    "# A code cell for experimentation"
   ]
  },
  {
   "cell_type": "markdown",
   "metadata": {},
   "source": [
    "### Exercise 5: Problem Solving\n",
    "\n",
    "This section of the lab poses some problems to you which can be solved by the use of loops.\n",
    "\n",
    "**Although finding code solutions for all problems is ideal, it is not necessary.** Rather, what is important is that you seriously attempt at least one of the problems. Your code will not be marked, so there is no penalty for mistakes.\n",
    "\n",
    "**You may find it difficult to connect the problems with code you should write. In fact, you might not even be sure how to start! <mark>Feel free to discuss possible approaches with either the lab instructor or with fellow students. There are many correct answers – what matters here is that you explore one of them for yourself.</mark>**"
   ]
  },
  {
   "cell_type": "markdown",
   "metadata": {},
   "source": [
    "#### Problem 5(a): interest-rate tables\n",
    "\n",
    "Write a program that will create a table of future values ($FV$) for a range of starting investments and a range of interest rates, assuming annual compunding of interest.\n",
    "    \n",
    "$$FV = P \\times (1 + R/100)^N$$\n",
    "\n",
    "Where $P$ is the initial value of the investment, $R$ is the interest rate expressed as a percentage, and $N$ is the number of years.\n",
    "\n",
    "Your program will use a minimum and maximum value for $P$.\n",
    "    \n",
    "A maximum value of $R$ will be used and the table will display calculated values for interest from 1 to $R$.\n",
    "    \n",
    "$N$ will be fixed.      \n",
    "\n",
    "For example, the table below shows the output for a program where $N$ is fixed at 10 years, while each row header has a different value for $P$ (1000 to 9000), and each column header has a different value for $R$ (1% to 9%).\n",
    "\n",
    "For example, if $P$ is \\\\$6000 and $R$ is 7\\%, then the value of $FV$ as shown in this computed table is \\\\$11802. (Note that all values are rounded to the nearest dollar.)\n",
    "\n",
    "\n"
   ]
  },
  {
   "cell_type": "markdown",
   "metadata": {},
   "source": [
    "```\n",
    "Future value after 10 years of interest\n",
    "\n",
    "START    1%    2%    3%    4%    5%    6%    7%    8%    9%\n",
    "  1000  1104  1218  1343  1480  1628  1790  1967  2158  2367\n",
    "  2000  2209  2437  2687  2960  3257  3581  3934  4317  4734\n",
    "  3000  3313  3656  4031  4440  4886  5372  5901  6476  7102\n",
    "  4000  4418  4875  5375  5920  6515  7163  7868  8635  9469\n",
    "  5000  5523  6094  6719  7401  8144  8954  9835 10794 11836\n",
    "  6000  6627  7313  8063  8881  9773 10745 11802 12953 14204\n",
    "  7000  7732  8532  9407 10361 11402 12535 13770 15112 16571\n",
    "  8000  8836  9751 10751 11841 13031 14326 15737 17271 18938\n",
    "  9000  9941 10970 12095 13322 14660 16117 17704 19430 21306\n",
    "  ```"
   ]
  },
  {
   "cell_type": "code",
   "execution_count": null,
   "metadata": {},
   "outputs": [],
   "source": [
    "# A code cell for experimentation"
   ]
  },
  {
   "cell_type": "markdown",
   "metadata": {
    "tags": []
   },
   "source": [
    "#### Problem 5(b): Computing prime numbers using `for` loops\n",
    "\n",
    "Given the value of `MAX_INTEGER`, write a program that computes the prime numbers from `2` up to `MAX_INTEGER`, where any loop must use the `for` statement.\n",
    "\n",
    "For example, is `MAX_INTEGER = 100`, then the output as computed would look like what appears below.\n"
   ]
  },
  {
   "cell_type": "markdown",
   "metadata": {},
   "source": [
    "```\n",
    "2\n",
    "3\n",
    "5\n",
    "7\n",
    "11\n",
    "13\n",
    "17\n",
    "19\n",
    "23\n",
    "29\n",
    "31\n",
    "37\n",
    "41\n",
    "43\n",
    "47\n",
    "53\n",
    "59\n",
    "61\n",
    "67\n",
    "71\n",
    "73\n",
    "79\n",
    "83\n",
    "89\n",
    "97\n",
    "```"
   ]
  },
  {
   "cell_type": "code",
   "execution_count": null,
   "metadata": {},
   "outputs": [],
   "source": [
    "# A code cell for experimentation"
   ]
  },
  {
   "cell_type": "markdown",
   "metadata": {},
   "source": [
    "#### Problem 5(c): Computing prime numbers using `while` loops\n",
    "\n",
    "Given the value of `MAX_INTEGER`, write a program that computes the prime numbers from `2` up to `MAX_INTEGER`, where any loop must use the `while` statement.\n",
    "\n",
    "(You can refer again to the example above involving `MAX_INTEGER = 100`.)\n"
   ]
  },
  {
   "cell_type": "code",
   "execution_count": null,
   "metadata": {},
   "outputs": [],
   "source": [
    "# A code cell for experimentation"
   ]
  }
 ],
 "metadata": {
  "kernelspec": {
   "display_name": "Python 3 (ipykernel)",
   "language": "python",
   "name": "python3"
  },
  "language_info": {
   "codemirror_mode": {
    "name": "ipython",
    "version": 3
   },
   "file_extension": ".py",
   "mimetype": "text/x-python",
   "name": "python",
   "nbconvert_exporter": "python",
   "pygments_lexer": "ipython3",
   "version": "3.9.7"
  }
 },
 "nbformat": 4,
 "nbformat_minor": 4
}
