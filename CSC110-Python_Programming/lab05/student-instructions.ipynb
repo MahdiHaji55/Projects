{
 "cells": [
  {
   "cell_type": "markdown",
   "metadata": {},
   "source": [
    "## UVic: Department of Computer Science\n",
    "## CSC 110 Fundamentals of Programming I (Spring 2022)\n",
    "\n",
    "* Lab 5: Week of February 14\n",
    "* All of your participation screenshots must be submitted to Brightspace by Sunday, 20th of February, 11:55 pm."
   ]
  },
  {
   "cell_type": "markdown",
   "metadata": {},
   "source": [
    "### This lab will cover the following topics\n",
    "\n",
    "* functions\n",
    "* parameters\n",
    "* return values"
   ]
  },
  {
   "cell_type": "markdown",
   "metadata": {},
   "source": [
    "### Exercise 1: On the board\n",
    "\n",
    "The lab instructor will use the room's whiteboard to write out an example of a user-defined function along with different ways it may be written or called (that is, the use of parameters).\n",
    "\n",
    "Without typing the code into `jhub.csc`, use paper and pen/pencil to hand-execute the code and determine what is output. Tracing may help, but is not strictly required for this exercise.\n",
    "."
   ]
  },
  {
   "cell_type": "code",
   "execution_count": null,
   "metadata": {},
   "outputs": [],
   "source": [
    "# A code cell for experimentation"
   ]
  },
  {
   "cell_type": "code",
   "execution_count": null,
   "metadata": {},
   "outputs": [],
   "source": [
    "# A code cell for experimentation"
   ]
  },
  {
   "cell_type": "code",
   "execution_count": null,
   "metadata": {},
   "outputs": [],
   "source": [
    "# A code cell for experimentation"
   ]
  },
  {
   "cell_type": "markdown",
   "metadata": {},
   "source": [
    "### Exercise 2: On the board (again)\n",
    "\n",
    "The lab instructor will use the room's whiteboard to write out more examples of function and function calls. These are silly functions with silly names, but the important thing is for you to recognize how control flow progresses through the program.\n",
    "\n",
    "This control flow can seem confusing at first, but stick with it.\n",
    "\n",
    "For this activity we do recommend some code tracing. Here, however, you are interested in line numbers and function calls rather than in the change of variable values. **Only after you have attempted to hand-execute the code** should you try entering the code on the board into `jhub.csc`."
   ]
  },
  {
   "cell_type": "code",
   "execution_count": null,
   "metadata": {},
   "outputs": [],
   "source": [
    "# A code cell for experimentation"
   ]
  },
  {
   "cell_type": "code",
   "execution_count": null,
   "metadata": {},
   "outputs": [],
   "source": [
    "# A code cell for experimentation"
   ]
  },
  {
   "cell_type": "code",
   "execution_count": null,
   "metadata": {},
   "outputs": [],
   "source": [
    "# A code cell for experimentation"
   ]
  },
  {
   "cell_type": "markdown",
   "metadata": {},
   "source": [
    "### Exercise 3: On the board (still!)\n",
    "\n",
    "We will now mix function calls with variable assignment and variable use. One or two new examples will again be shown on the board.\n",
    "\n",
    "For this activity we do recommend some code tracing. Unlike the exercise above, here you are **very very interested in line numbers AND function calls AND the change in variable values**. Although it would be ideal fo you to try code tracing first and then running code, you may want to experiment a bit with bits of the example by trying to run them, modify them and see what happens, etc. This code will seem tricky at first (which is something instructors say about pretty much everything in this course!)."
   ]
  },
  {
   "cell_type": "code",
   "execution_count": null,
   "metadata": {},
   "outputs": [],
   "source": [
    "# A code cell for experimentation"
   ]
  },
  {
   "cell_type": "code",
   "execution_count": null,
   "metadata": {},
   "outputs": [],
   "source": [
    "# A code cell for experimentation"
   ]
  },
  {
   "cell_type": "markdown",
   "metadata": {},
   "source": [
    "### Exercise 4: Noisy farmyard functions\n",
    "\n",
    "You are to write a program that generates the following output:\n",
    "```\n",
    "NEIGH!!\n",
    "<whinny>\n",
    "Cluck cluck -- cluck.\n",
    "NEIGH!!\n",
    "<whinny>\n",
    "Oink!\n",
    "OINK!\n",
    "<squeal>\n",
    "NEIGH!!\n",
    "<whinny>\n",
    "Oink!\n",
    "OINK!\n",
    "<squeal>\n",
    "Cluck cluck -- cluck.\n",
    "```\n",
    "\n",
    "However, you must do this by writing four functions: `pigsty` (for the oinks and squeals), `stable` (for the neighs and whinnies), `henhouse` (for the clucks), and lastly the `main` function. Note that this last function will call each of the first three functions in some suitable order, with each perhaps called more than once. "
   ]
  },
  {
   "cell_type": "code",
   "execution_count": null,
   "metadata": {},
   "outputs": [],
   "source": [
    "# A code cell for experimentation. If you're not careful, the call to main()\n",
    "# below might result in some other definition of main() in this notebook being\n",
    "# performed! Be careful!\n",
    "\n",
    "main()"
   ]
  },
  {
   "cell_type": "markdown",
   "metadata": {
    "tags": []
   },
   "source": [
    "### Exercise 5 \n",
    "\n",
    "For this exercise, you will try to solve a problem using functions.\n",
    "\n",
    "* Take a number from the user. \n",
    "* Print all prime numbers lower than this number\n",
    "* Must write a function with the name of `is_prime`\n",
    "    * This function takes one parameter (an integer)\n",
    "    * It determines if the number passed as a parameter is prime\n",
    "    * That is, if the number  is prime, the function returns `True`, otherwise, it returns `False`\n",
    "    \n",
    "Below is an example of the result of running the program.\n",
    "\n",
    "```\n",
    "Enter a number 25\n",
    "2\n",
    "3\n",
    "5\n",
    "7\n",
    "11\n",
    "13\n",
    "17\n",
    "19\n",
    "23\n",
    "```\n"
   ]
  },
  {
   "cell_type": "code",
   "execution_count": null,
   "metadata": {},
   "outputs": [],
   "source": [
    "# You'll need to write `prime` here.\n",
    "#\n",
    "# Remember to write the function in several passed.\n",
    "# For example, start with a function that takes a parameter and returns False no matter what.\n",
    "# Then modify it so that the function can return True if the number is divisible by 2, False otherwise\n",
    "# etc. etc. etc.\n",
    "\n",
    "            \n",
    "def main():\n",
    "    num = int(input(\"Enter a number \"))\n",
    "    for i in range(2, num):\n",
    "        if (is_prime(i)):\n",
    "            print(i)\n",
    "            \n",
    "main()"
   ]
  },
  {
   "cell_type": "markdown",
   "metadata": {
    "tags": []
   },
   "source": [
    "### Exercise 6:\n",
    "\n",
    "- Write a list that shows temperature conversions from celsius (C) to fahrenheit (F). \n",
    "- Take a high temperature and low temperature from the user in celsius. \n",
    "- Write code that prints out several statements in the format below for every integer value of celcius between the high and low temperatures entered by the user\n",
    "    * -63 celsius is -81.40 fahrenheit\n",
    "    * -62 celsius is -79.60 fahrenheit\n",
    "    * and so on...\n",
    "    \n",
    "    \n",
    "    \n",
    "- celsius to fahrenheit: `C = (F*(9/5)) + 32`\n",
    "- you are to write a function `celsius_to_fahrenheit` which takes a single value as a parameter which is a temperature in celsius, and converts this into the temperature in fahrenheit and returns the converted value. \n",
    "\n",
    "For those who keep track of such things:\n",
    "- Coldest temperature ever recorded in Canada is -63 degrees C in Yukon\n",
    "- Hottest temperature ever recorded in Canada is 45 degrees C Saskatchewan\n",
    "\n",
    "Below is a partial example of the output from running the program. \n",
    "\n",
    "\n",
    "```\n",
    "-63.00 celsius is -81.40 fahrenheit\n",
    "-62.00 celsius is -79.60 fahrenheit\n",
    "-61.00 celsius is -77.80 fahrenheit\n",
    "-60.00 celsius is -76.00 fahrenheit\n",
    "-59.00 celsius is -74.20 fahrenheit\n",
    "-58.00 celsius is -72.40 fahrenheit\n",
    "-57.00 celsius is -70.60 fahrenheit\n",
    "-56.00 celsius is -68.80 fahrenheit\n",
    "-55.00 celsius is -67.00 fahrenheit\n",
    "-54.00 celsius is -65.20 fahrenheit\n",
    "-53.00 celsius is -63.40 fahrenheit\n",
    "-52.00 celsius is -61.60 fahrenheit\n",
    "-51.00 celsius is -59.80 fahrenheit\n",
    "\n",
    "```"
   ]
  },
  {
   "cell_type": "code",
   "execution_count": null,
   "metadata": {},
   "outputs": [],
   "source": [
    "# A code cell for experimentation"
   ]
  },
  {
   "cell_type": "markdown",
   "metadata": {},
   "source": [
    "## SUBMISSION\n",
    "\n",
    "Take a screenshot named `lab05_screenshot` showing your code and output of running the code for `exercise 5` and submit it in `Brightspace`. When in `Brightspace`, navigate as follows: `Content` --> `Labs` --> `lab participation (screenshots)`. Submit your screenshots at this location. \n",
    "\n",
    "Note: **There is no `stage` > `commit` > `push` required for this lab!**\n",
    "\n",
    "Submission is due `Sunday, 20th February, 11.55 pm` \n",
    "\n"
   ]
  }
 ],
 "metadata": {
  "kernelspec": {
   "display_name": "Python 3 (ipykernel)",
   "language": "python",
   "name": "python3"
  },
  "language_info": {
   "codemirror_mode": {
    "name": "ipython",
    "version": 3
   },
   "file_extension": ".py",
   "mimetype": "text/x-python",
   "name": "python",
   "nbconvert_exporter": "python",
   "pygments_lexer": "ipython3",
   "version": "3.9.7"
  }
 },
 "nbformat": 4,
 "nbformat_minor": 4
}
