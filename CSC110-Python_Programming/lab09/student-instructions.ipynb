{
 "cells": [
  {
   "cell_type": "markdown",
   "metadata": {},
   "source": [
    "## UVic: Department of Computer Science\n",
    "## CSC 110 Fundamentals of Programming I (Spring 2022)\n",
    "\n",
    "* Lab 9: Week of March 21\n",
    "* All of your participation screenshots must be submitted to Brightspace by Sunday, March 27, 11:55 pm."
   ]
  },
  {
   "cell_type": "markdown",
   "metadata": {
    "tags": []
   },
   "source": [
    "### This lab will cover the following topics\n",
    "\n",
    "* First use of *dictionaries* and their way of connecting a *key* with a *value*\n",
    "* Some simple uses of dictionaries in problem solving.\n",
    "\n",
    "**Note**: In the code cells below, we move back and forth between not using a `main()` function and then suddenly using one again. There is not necessarily a pattern meant here. Creating quick experiments with small bits of Python code is easier without functions. However, when solving problems, the use of functions (including a `main`) is actually easier as it eliminates many easy-to-make errors (and by \"error\", we mean programs that run but which produce incorrect results)."
   ]
  },
  {
   "cell_type": "markdown",
   "metadata": {},
   "source": [
    "### Exploration A\n",
    "\n",
    "A dictionary is a data structure that connects a *key*  (which must be of an immutable type) with a *value* (which may be mutable or immutable). The syntax for creating a dictionary literal looks different from all we have seen so far in Python. However, using an existing dictionary has syntax that is similar to working with lists and tuples, although this can be a bit misleading.\n",
    "\n",
    "Consider the code in the cells below, and notice how the dictionary's key/value mapping changes."
   ]
  },
  {
   "cell_type": "code",
   "execution_count": null,
   "metadata": {},
   "outputs": [],
   "source": [
    "FOUNDING_YEAR = {\"Canada\":1867, \"USA\":1776, \"Mexico\":1810, \n",
    "                 \"Nigeria\":1960, \"Malaysia\":1957}\n",
    "\n",
    "# Adding to dictionary\n",
    "country, year = \"Sweden\", 1523\n",
    "FOUNDING_YEAR[country] = year\n",
    "\n",
    "print(FOUNDING_YEAR)\n",
    "\n",
    "FOUNDING_YEAR[\"India\"] = 1947\n",
    "\n",
    "print(FOUNDING_YEAR)"
   ]
  },
  {
   "cell_type": "markdown",
   "metadata": {},
   "source": [
    "**But also notice when a key is looked up, especially when the key doesn't already exist in the dictionary.** Also notice therefore that at any one time there can exist at one value associated with any key."
   ]
  },
  {
   "cell_type": "code",
   "execution_count": null,
   "metadata": {},
   "outputs": [],
   "source": [
    "# Look up values in dictionary\n",
    "\n",
    "print(FOUNDING_YEAR[\"Canada\"])"
   ]
  },
  {
   "cell_type": "code",
   "execution_count": null,
   "metadata": {},
   "outputs": [],
   "source": [
    "# What is the outcome of this?\n",
    "\n",
    "print(FOUNDING_YEAR[\"Paraguay\"])"
   ]
  },
  {
   "cell_type": "markdown",
   "metadata": {},
   "source": [
    "When looking up keys in dictionaries where it is possible that key does not yet exist, we must explicitly check for the possibility. One way of doing this is with the `in` operator."
   ]
  },
  {
   "cell_type": "code",
   "execution_count": null,
   "metadata": {},
   "outputs": [],
   "source": [
    "# Above cell gives a KeyError because \"Paraguay\" is not a key in the dicationary\n",
    "# How to handle this?\n",
    "\n",
    "query = input(\"Name of country? \")\n",
    "\n",
    "if query in FOUNDING_YEAR:\n",
    "    print(FOUNDING_YEAR[query])\n",
    "else:\n",
    "    print(\"????\")\n"
   ]
  },
  {
   "cell_type": "markdown",
   "metadata": {},
   "source": [
    "### Exploration B\n",
    "\n",
    "The value associated with a key can be a string, or an integer, or a float. It can also be something with more structure, such as a list or a tuple. It is even possible to have a value that is another dictionary!\n",
    "\n",
    "Notice in the code cells below how the symbols `[` and `]` are used. The meaning of these symbols depends upon the context.\n",
    "* Are the symbols being used to provide a key to a dictionary, from which a value will be looked up?\n",
    "* Are the symbols being used to index into a list or a tuple, in which case the value at that index location (assuming the index is value) will be given?"
   ]
  },
  {
   "cell_type": "code",
   "execution_count": null,
   "metadata": {},
   "outputs": [],
   "source": [
    "# Values in the dictionary can be more than just strings or integers\n",
    "# They can be lists or tuples.\n",
    "# The second number in the values tuple is the population\n",
    "\n",
    "COUNTRY_STATS = {\"Canada\":(1867, 37952190), \"USA\":(1776, 329425372),\n",
    "                 \"India\":(1947, 1359611051), \"Ireland\":(1922,4921500),\n",
    "                 \"Nigeria\":(1960, 206139587), \"Malaysia\":(1957,32714760)}"
   ]
  },
  {
   "cell_type": "code",
   "execution_count": null,
   "metadata": {},
   "outputs": [],
   "source": [
    "# How do I get the population of Canada?\n",
    "\n",
    "# What is the output of this --> the value is a tuple. index into the tuple\n",
    "print(COUNTRY_STATS[\"Canada\"])\n",
    "\n",
    "# What is the output of this\n",
    "print(COUNTRY_STATS[\"Canada\"][1])\n"
   ]
  },
  {
   "cell_type": "markdown",
   "metadata": {},
   "source": [
    "### Exercise 1\n",
    "\n",
    "Write code that will accept the name of a country from the user, and then prints:\n",
    "* the name of the that country\n",
    "* its founding year\n",
    "* and its population. \n",
    "\n",
    "Your code should also handle user entry of a country that is not in the dictionary.\n",
    "\n",
    "For example, if the user provides \"Canada\", then the output will be:\n",
    "\n",
    "```Canada was found in 1967 and has a population of 37952190```\n",
    "\n",
    "and if the user provides \"Germany\", then the output will be:\n",
    "\n",
    "```???```\n",
    "\n",
    "Some starter code is provided for you. Ensure your solution is in the `main` function."
   ]
  },
  {
   "cell_type": "code",
   "execution_count": 1,
   "metadata": {},
   "outputs": [],
   "source": [
    "COUNTRY_STATS = {\"Canada\":(1867, 37952190), \"USA\":(1776, 329425372),\n",
    "                 \"India\":(1947, 1359611051), \"Ireland\":(1922,4921500),\n",
    "                 \"Nigeria\":(1960, 206139587), \"Malaysia\":(1957,32714760)}\n",
    "\n",
    "def main():\n",
    "    return\n",
    "        \n",
    "main()"
   ]
  },
  {
   "cell_type": "markdown",
   "metadata": {},
   "source": [
    "### Exercise 2\n",
    "\n",
    "Write code that will accept the name of a country from the use, and then prints:\n",
    "* the name of the that country\n",
    "* its founding year\n",
    "* and its population. \n",
    "\n",
    "Your code should also handle user entry of a country that is not in the dictionary.\n",
    "\n",
    "For example, if the user provides \"Canada\", then the output will be:\n",
    "\n",
    "```Canada was found in 1967 and has a population of 37952190```\n",
    "\n",
    "and if the user provides \"Norway\", and if Norway is not in the dictionary, then\n",
    "* ask for the founding year and input it (i.e. `1814`)\n",
    "* and ask for for the population and input it (i.e. `5367580`)\n",
    "* and finally add these to the dictionary\n",
    "\n",
    "For both the **found** and **not found** cases, print the dictionary at the end of the program.\n"
   ]
  },
  {
   "cell_type": "code",
   "execution_count": 2,
   "metadata": {},
   "outputs": [
    {
     "name": "stdout",
     "output_type": "stream",
     "text": [
      "{'Canada': (1867, 37952190), 'USA': (1776, 329425372), 'India': (1947, 1359611051), 'Ireland': (1922, 4921500), 'Nigeria': (1960, 206139587), 'Malaysia': (1957, 32714760)}\n"
     ]
    }
   ],
   "source": [
    "COUNTRY_STATS = {\"Canada\":(1867, 37952190), \"USA\":(1776, 329425372),\n",
    "                 \"India\":(1947, 1359611051), \"Ireland\":(1922,4921500),\n",
    "                 \"Nigeria\":(1960, 206139587), \"Malaysia\":(1957,32714760)}\n",
    "\n",
    "def main():\n",
    "    # Your stuff here...\n",
    "    print(COUNTRY_STATS)\n",
    "    return\n",
    "        \n",
    "main()"
   ]
  },
  {
   "cell_type": "markdown",
   "metadata": {},
   "source": [
    "### Exploration C\n",
    "\n",
    "Sometimes we would like to iterate through all of the keys that exist in a dictionary. This is possible with our good friend, the `for` statement. Consider the examples below:"
   ]
  },
  {
   "cell_type": "code",
   "execution_count": null,
   "metadata": {},
   "outputs": [],
   "source": [
    "COUNTRY_STATS = {\"Canada\":(1867, 37952190), \"USA\":(1776, 329425372),\n",
    "                 \"India\":(1947, 1359611051), \"Ireland\":(1922,4921500),\n",
    "                 \"Nigeria\":(1960, 206139587), \"Malaysia\":(1957,32714760)}\n",
    "\n",
    "# How to iterate over a dictionary? Using keys\n",
    "\n",
    "for key in COUNTRY_STATS:\n",
    "    print(key)"
   ]
  },
  {
   "cell_type": "code",
   "execution_count": null,
   "metadata": {},
   "outputs": [],
   "source": [
    "for key in COUNTRY_STATS:\n",
    "    print(COUNTRY_STATS[key])"
   ]
  },
  {
   "cell_type": "code",
   "execution_count": null,
   "metadata": {},
   "outputs": [],
   "source": [
    "for key in COUNTRY_STATS:\n",
    "    print(key, \" | \", COUNTRY_STATS[key])"
   ]
  },
  {
   "cell_type": "markdown",
   "metadata": {
    "tags": []
   },
   "source": [
    "### Exercise 3\n",
    "\n",
    "Write code that will print out the information for each country in ```COUNTRY_STATS``` in a friendly, readable format.\n",
    "\n",
    "For example, given ```COUNTRY_STATS``` as already provided in the code cell below, the expected output would be:\n",
    "\n",
    "```\n",
    "Country: Canada\n",
    "Year of independence/founding:  1867\n",
    "Population: 37952190\n",
    "\n",
    "Country: USA\n",
    "Year of independence/founding:  1776\n",
    "Population: 329425372\n",
    "\n",
    "Country: India\n",
    "Year of independence/founding:  1947\n",
    "Population: 1359611051\n",
    "\n",
    "Country: Ireland\n",
    "Year of independence/founding:  1922\n",
    "Population: 4921500\n",
    "\n",
    "Country: Nigeria\n",
    "Year of independence/founding:  1960\n",
    "Population: 206139587\n",
    "\n",
    "Country: Malaysia\n",
    "Year of independence/founding:  1957\n",
    "Population: 32714760`\n",
    "```"
   ]
  },
  {
   "cell_type": "code",
   "execution_count": null,
   "metadata": {},
   "outputs": [],
   "source": [
    "COUNTRY_STATS = {\"Canada\":(1867, 37952190), \"USA\":(1776, 329425372),\n",
    "                 \"India\":(1947, 1359611051), \"Ireland\":(1922,4921500),\n",
    "                 \"Nigeria\":(1960, 206139587), \"Malaysia\":(1957,32714760)}\n",
    "\n",
    "def main():\n",
    "    # Your stuff here...\n",
    "    return\n",
    "        \n",
    "main()"
   ]
  },
  {
   "cell_type": "markdown",
   "metadata": {},
   "source": [
    "### Exploration D\n",
    "\n",
    "Keys need not be strings – they can also be integers, or tuples than contain immutable values. We can also work with keys as a list, and all the actions possible on a list (such as sorted) are therefore available to us.\n"
   ]
  },
  {
   "cell_type": "code",
   "execution_count": null,
   "metadata": {},
   "outputs": [],
   "source": [
    "def main():\n",
    "    summer_olympics = {1976 : \"Canada\", 1980 : \"Soviet Union\", 1988 : \"South Korea\",\n",
    "                       1968 : \"Mexico\", 1992 : \"Spain\", 1936: \"Germany\", \n",
    "                       1972 : \"Germany\", 1924: \"France\" }\n",
    "    \n",
    "    keys = summer_olympics.keys()\n",
    "    print(keys)\n",
    "    print()\n",
    "    \n",
    "    keys = list(keys)   # This converts an \"iterator\" object into a \"list\" object\n",
    "    print(keys)\n",
    "    print()\n",
    "    \n",
    "    keys.sort()\n",
    "    print(keys)\n",
    "    print()\n",
    "    \n",
    "    for year in keys:\n",
    "        print(\"Country:\", summer_olympics[year], \"; Year\", year)\n",
    "        \n",
    "main()\n"
   ]
  },
  {
   "cell_type": "code",
   "execution_count": null,
   "metadata": {},
   "outputs": [],
   "source": [
    "# A more compact version\n",
    "    \n",
    "def main():\n",
    "    summer_olympics = {1976 : \"Canada\", 1980 : \"Soviet Union\", 1988 : \"South Korea\",\n",
    "                       1968 : \"Mexico\", 1992 : \"Spain\", 1936: \"Germany\", \n",
    "                       1972 : \"Germany\", 1924: \"France\" }\n",
    "    \n",
    "    keys = sorted(summer_olympics.keys())  # `sorted` built-in function **always returns a new list.\n",
    "    print(keys)\n",
    "    print()\n",
    "    \n",
    "    for year in keys:\n",
    "        print(\"Country:\", summer_olympics[year], \"; Year\", year)\n",
    "        \n",
    "main()\n"
   ]
  },
  {
   "cell_type": "markdown",
   "metadata": {},
   "source": [
    "### Exercise 4\n",
    "\n",
    "Modify your code for Exercise 3 to print out the countries in alphabetical order."
   ]
  },
  {
   "cell_type": "markdown",
   "metadata": {},
   "source": [
    "### Exploration E\n",
    "\n",
    "Recall the comment earlier that a value associated with a key may itself also be a dictionary.\n",
    "\n",
    "Examine the code below, and ensure you are clear regarding the ways the `[` and `]` symbols are being used (i.e., below they appear to always enclose key values).\n"
   ]
  },
  {
   "cell_type": "code",
   "execution_count": 3,
   "metadata": {},
   "outputs": [
    {
     "name": "stdout",
     "output_type": "stream",
     "text": [
      "{'founding': 1867, 'pop': 37952190}\n",
      "37952190\n"
     ]
    }
   ],
   "source": [
    "# Dictionary values can also be dictionaries\n",
    "\n",
    "COUNTRY_STATS = {\"Canada\": {\"founding\":1867, \"pop\":37952190}, \n",
    "                 \"USA\":{\"founding\":1776, \"pop\":329425372},\n",
    "                 \"India\": {\"founding\":1947, \"pop\":1359611051}, \n",
    "                 \"Ireland\": {\"founding\":1922, \"pop\": 4921500},\n",
    "                 \"Nigeria\": {\"founding\":1960, \"pop\":206139587}, \n",
    "                 \"Malaysia\":{\"founding\":1957, \"pop\":32714760}}\n",
    "\n",
    "\n",
    "# What is the output of this --> the value is a dictionary\n",
    "print(COUNTRY_STATS[\"Canada\"])\n",
    "\n",
    "# What is the output of this\n",
    "# print(COUNTRY_STATS[\"Canada\"][1])\n",
    "\n",
    "# What is the output of this\n",
    "print(COUNTRY_STATS[\"Canada\"][\"pop\"])"
   ]
  },
  {
   "cell_type": "markdown",
   "metadata": {},
   "source": [
    "### Exercise 5\n",
    "\n",
    "Revise your solution to Exercise 4 so that the countries are printed in alphabetical order."
   ]
  },
  {
   "cell_type": "code",
   "execution_count": null,
   "metadata": {},
   "outputs": [],
   "source": [
    "COUNTRY_STATS = {\"Canada\":(1867, 37952190), \"USA\":(1776, 329425372),\n",
    "                 \"India\":(1947, 1359611051), \"Ireland\":(1922,4921500),\n",
    "                 \"Nigeria\":(1960, 206139587), \"Malaysia\":(1957,32714760)}\n",
    "\n",
    "def main():\n",
    "    # Your stuff here...\n",
    "    return\n",
    "        \n",
    "main()"
   ]
  },
  {
   "cell_type": "markdown",
   "metadata": {
    "tags": []
   },
   "source": [
    "### Exploration F\n",
    "\n",
    "Oftentimes we need to dictionaries to solve a problem, but our original data that makes up the problem is stored in a list.\n",
    "\n",
    "Consider the example in the code cells below where each string in the list corresponds to what might have originally appeared in a `CSV` file. Observe the steps taken that result in building a dictionary similar to the ones we've used in earlier code cells."
   ]
  },
  {
   "cell_type": "code",
   "execution_count": null,
   "metadata": {},
   "outputs": [],
   "source": [
    "countries = [\"Canada,1867,37952190\", \"USA,1776,329425372\",\n",
    "            \"India,1947,1359611051\", \"Ireland,1922,4921500\",\n",
    "            \"Nigeria,1960,206139587\", \"Malaysia,1957,32714760\"]\n",
    "\n",
    "country_stats = {}\n",
    "\n",
    "for c in countries:\n",
    "    tokens = c.split(\",\")\n",
    "    (country, year, population) = (tokens[0], tokens[1], tokens[2])\n",
    "    country_stats[country] = (year, population)\n",
    "    \n",
    "print(country_stats)\n"
   ]
  },
  {
   "cell_type": "markdown",
   "metadata": {},
   "source": [
    "And oftentimes we want to process the contents of a list in order to determine some statistics, for example, word counts or letter counts. If we do this in a iterative way (i.e. iterating through all words or all letters) then we must always consider the case of when a word/letter is encountered for the first time. Below is one way of doing all of this."
   ]
  },
  {
   "cell_type": "code",
   "execution_count": null,
   "metadata": {},
   "outputs": [],
   "source": [
    "sentence = \"shallicomparetheetooasummer'sdays?\"\n",
    "letters = list(sentence)\n",
    "\n",
    "counts = {}\n",
    "\n",
    "for let in letters:\n",
    "    if let not in counts:\n",
    "        counts[let] = 0\n",
    "    counts[let] += 1\n",
    "    \n",
    "print(counts)"
   ]
  },
  {
   "cell_type": "markdown",
   "metadata": {},
   "source": [
    "### Exercise 6\n",
    "\n",
    "Write a function named `word_freqs` that accepts a list of words, and returns a dictionary with a count of those words.\n",
    "\n",
    "For example, if the input list is:\n",
    "```\n",
    "[\"to\", \"be\", \"or\", \"not\", \"to\", \"be\", \"Whoever\", \"came\", \"up\", \"with\", \"this?\"]\n",
    "```\n",
    "\n",
    "then the resulting dictionary would be:\n",
    "```\n",
    "{'to': 2, 'be': 2, 'or': 1, 'not': 1, 'Whoever': 1, 'came': 1, 'up': 1, 'with': 1, 'this?': 1}\n",
    "```"
   ]
  },
  {
   "cell_type": "code",
   "execution_count": null,
   "metadata": {},
   "outputs": [],
   "source": [
    "def word_freqs:   # This very first line of the funtion incomplete! Please complete it!\n",
    "    return {}\n",
    "\n",
    "def main():\n",
    "    line = \"to be or not to be Whoever came up with this?\"\n",
    "    words = line.split()\n",
    "    freqs = word_freqs(words)\n",
    "    print(freqs)\n",
    "    \n",
    "main()"
   ]
  },
  {
   "cell_type": "markdown",
   "metadata": {
    "tags": []
   },
   "source": [
    "### Exercise 7\n",
    "\n",
    "Open the file named `cat-in-the-hat.txt`, and produce a count of all the words in the file. Hint: Make sure that you do not include newlines as part of a word! Don't worry about removing punctuation such as the `'` or `\"` or periods or questions marks, etc. See if you can also print those words (and their counts) in alphabetical order.\n",
    "\n",
    "A sample output for this program can be found in the final named `sample-6-output.txt`.\n",
    "\n",
    "Also: Try to break down your program into separate functions, i.e. one to read the words from the file to produce a long list, one to iterate through the list to compute the counts, and one to output the counts in alphabetical order."
   ]
  },
  {
   "cell_type": "code",
   "execution_count": 37,
   "metadata": {},
   "outputs": [],
   "source": [
    "FILENAME = \"cat-in-the-hat.txt\"\n",
    "\n",
    "# Feel free to add parameters as needed to your function definitions\n",
    "\n",
    "def get_words():\n",
    "    return\n",
    "\n",
    "def word_freq():\n",
    "    return\n",
    "\n",
    "def report_freq():\n",
    "    return\n",
    "    \n",
    "def main(): \n",
    "    return\n",
    "    \n",
    "main()"
   ]
  },
  {
   "cell_type": "markdown",
   "metadata": {},
   "source": [
    "## Submission\n",
    "\n",
    "Take a screenshot named `lab09_screenshot` showing your code and output of running the code for `Exercise 4` and submit it in `Brightspace`. When in `Brightspace`, navigate as follows: `Content` --> `Labs` --> `lab participation (screenshots)`. Submit your screenshots at this location. \n",
    "\n",
    "Note: **There is no `stage` > `commit` > `push` required for this lab!**\n",
    "\n",
    "Submission is due `Sunday, 27th March, 11.55 pm` "
   ]
  }
 ],
 "metadata": {
  "kernelspec": {
   "display_name": "Python 3 (ipykernel)",
   "language": "python",
   "name": "python3"
  },
  "language_info": {
   "codemirror_mode": {
    "name": "ipython",
    "version": 3
   },
   "file_extension": ".py",
   "mimetype": "text/x-python",
   "name": "python",
   "nbconvert_exporter": "python",
   "pygments_lexer": "ipython3",
   "version": "3.9.7"
  }
 },
 "nbformat": 4,
 "nbformat_minor": 4
}
