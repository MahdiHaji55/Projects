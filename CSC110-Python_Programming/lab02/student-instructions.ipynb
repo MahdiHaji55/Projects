{
 "cells": [
  {
   "cell_type": "markdown",
   "metadata": {},
   "source": [
    "## UVic: Department of Computer Science\n",
    "## CSC 110 Fundamentals of Programming I (Spring 2022)\n",
    "\n",
    "* Lab 2: Week of January 24\n",
    "* All of your participation screenshots must be submitted to Brightspace by Sunday, January 30, 11:55 pm.\n"
   ]
  },
  {
   "cell_type": "markdown",
   "metadata": {
    "jp-MarkdownHeadingCollapsed": true,
    "tags": []
   },
   "source": [
    "### This lab will cover the following topics\n",
    "\n",
    "- How to access, complete, and submit Assignment 0\n",
    "- Decision making using `if` / `elif` / `else` statements. Includes nested statements.  \n",
    "- Logical operators\n",
    "- Boolean logic more generally"
   ]
  },
  {
   "cell_type": "markdown",
   "metadata": {
    "jp-MarkdownHeadingCollapsed": true,
    "tags": []
   },
   "source": [
    "### Exercise 1: Assignment 0\n",
    "\n",
    "**Main learning outcome**: Gain experience the workflow you will use this semester for submitting assignments.\n",
    "\n",
    "- This assignment 0 *is not for credit* but is rather provided to give you a safe way to learn use of the *push to remote* technique we will use for all assignments this semester.\n",
    "- If you make any mistakes when submitting assignment 0, then we can help you recover from that mistake; this is less stressful than making such mistakes with assignments that have course credit!\n",
    "- The teaching-team has prepared a video to demonstrate to you the actions you take to submit an edited Jupyter notebook. *A link to this video will be found in the Brightspace module for \"Lab 2\".* \n",
    "- Some of the actions/steps described in the video will also be discussed and shown as needed by your lab instructor."
   ]
  },
  {
   "cell_type": "markdown",
   "metadata": {
    "tags": []
   },
   "source": [
    "### Exercise 2: A bit of warm-up\n",
    "\n",
    "**Main learning outcome**: Get warmed up writing some relatively-straightforward Python and executing that code.\n",
    "\n",
    "- Start by taking a name from the user.\n",
    "- Is the name `\"David\"` or `\"Molly\"`?\n",
    "- Print the name that is entered and the appropriate message. "
   ]
  },
  {
   "cell_type": "code",
   "execution_count": 1,
   "metadata": {},
   "outputs": [],
   "source": [
    "# Exercise 2 code here..."
   ]
  },
  {
   "cell_type": "markdown",
   "metadata": {
    "tags": []
   },
   "source": [
    "### Exercise 3: `if-elif-else` plus some arithmetic expressions\n",
    "\n",
    "**Main learning outcome**: Read and understand problem description, such that from this you can write a solution to the problem in Python that uses selections statements (e.g. `if-else`, `if-elif-else`), amongst other things.\n",
    "\n",
    "\n",
    "Write a program to calculate the final value of a cash investment, assuming a principal amount is held for a term duration using simple interest (i.e. ***not*** compound interest). The interest rate varies by term duration:    \n",
    "* 1-2 years -- 2%    \n",
    "* 3-5 years -- 3%     \n",
    "* 6-10 years -- 5%      \n",
    "* more than 10 years -- 7%      \n",
    "\n",
    "The formula for simple interest is: $I = T \\times (P \\times i)$\n",
    "\n",
    "where:\n",
    "* $I$ is the amount of simple interest\n",
    "* $T$ is the term (i.e. number of years for given an annual interest rate)\n",
    "* $P$ is the principal (i.e. the value of the initial investment)\n",
    "* $i$ is the interest expressed as a decimal (e.g. `5.5%` is to be represented as the floating-point number `0.055`)\n",
    "  \n",
    "For example, if the principal is **100**, the term is **five years**, then the annual interest rate as shown above is **3%** such that the amount of simple interest is `5 * (100 * 0.03)` which is *$15$; therefore the final value of the investment is the initial principal plus the interest (`100 + 15` which is `115`).\n"
   ]
  },
  {
   "cell_type": "code",
   "execution_count": null,
   "metadata": {},
   "outputs": [],
   "source": [
    "# Exercise 3 code here..."
   ]
  },
  {
   "cell_type": "markdown",
   "metadata": {
    "tags": []
   },
   "source": [
    "### Exercise 4: Reduction of a number \n",
    "\n",
    "**Main learning outcome**: Discover how `if-else` and `if-elif-else` statements can *themselves* contain other `if-else` and/or `if-elif-else` statements (i.e. sometimes called *nested `if` statements*).\n",
    "\n",
    "(Your lab instructor will give you this exercise during the lab session itself.)"
   ]
  },
  {
   "cell_type": "code",
   "execution_count": null,
   "metadata": {},
   "outputs": [],
   "source": [
    "# Exercise 4 code here"
   ]
  },
  {
   "cell_type": "markdown",
   "metadata": {},
   "source": [
    "## SUBMISSIONS\n",
    "\n",
    "In this lab, you learned how to work with your repository, in order to retrieve and submit files to and from the repository. \n",
    "\n",
    "### Submit A0 to your repository\n",
    "\n",
    "Follow the instruction demonstrated in this lab to retrieve and complete A0 (you will need to pull). \n",
    "\n",
    "Then submit A0 to your repository. (You will need go stage, commit, push)\n",
    "\n",
    "You will received an email from gitlab, once you have successfully submitted A0\n",
    "\n",
    "### Lab 02 submission in brightspace \n",
    "\n",
    "There are 2 screenshots to submit in brightspace for this lab.\n",
    "\n",
    "1) Take a screenshot named `\"lab02_email_screenshot\"` showing the email you receive as confirmation of submitting A0\n",
    "2) Take a screenshot named `\"lab02_screenshot\"` showing your code and output of running code for exercise 3 of this lab. \n",
    "\n",
    "Screenshots can be any common format (jpeg, png, etc). \n",
    "\n",
    "Submit these screenshots in `Brightspace`. When at `Brightspace`, navigate as follows: `Content` --> `Labs` --> `lab participation (screenshots)`. Submit your screenshots at this location. "
   ]
  }
 ],
 "metadata": {
  "kernelspec": {
   "display_name": "Python 3 (ipykernel)",
   "language": "python",
   "name": "python3"
  },
  "language_info": {
   "codemirror_mode": {
    "name": "ipython",
    "version": 3
   },
   "file_extension": ".py",
   "mimetype": "text/x-python",
   "name": "python",
   "nbconvert_exporter": "python",
   "pygments_lexer": "ipython3",
   "version": "3.9.7"
  }
 },
 "nbformat": 4,
 "nbformat_minor": 4
}
