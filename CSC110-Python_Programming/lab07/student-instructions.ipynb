{
 "cells": [
  {
   "cell_type": "markdown",
   "metadata": {},
   "source": [
    "## UVic: Department of Computer Science\n",
    "## CSC 110 Fundamentals of Programming I (Spring 2022)\n",
    "\n",
    "* Lab 7: Week of February 7\n",
    "* All of your participation screenshots must be submitted to Brightspace by Sunday, March 13, 11:55 pm."
   ]
  },
  {
   "cell_type": "markdown",
   "metadata": {
    "tags": []
   },
   "source": [
    "### This lab will cover the following topics\n",
    "\n",
    "The focus will be a continuation of work **lists**, an introduction to **tuples**, and an introduction to the **simple use of files**.\n",
    "\n",
    "- \"converting\" a string into a list, and vice versa\n",
    "- starting to work with lists within lists by creating a literal such list and producing output based on it\n",
    "- constructing tuples\n",
    "- accessing elements within tuples, and seeing the different between tuples (immutable) and lists (mutable)\n",
    "- some multiple-assignment syntax available when working with tuples\n",
    "\n",
    "**Your lab instructor will demonstrate several of these concepts through code examples to start the lab.**\n"
   ]
  },
  {
   "cell_type": "markdown",
   "metadata": {},
   "source": [
    "<mark>Note: To turn on line numbers, go to the `View` > `Show Line Numbers`. </mark>"
   ]
  },
  {
   "cell_type": "markdown",
   "metadata": {},
   "source": [
    "### Exploration A\n",
    "\n",
    "Strings are sequences, and lists are sequences, and we can move back-and-forth between them (in a way)"
   ]
  },
  {
   "cell_type": "code",
   "execution_count": null,
   "metadata": {},
   "outputs": [],
   "source": [
    "# Explain why line 4 and lines 6-8 do the same thing...\n",
    "\n",
    "s = \"The quick brown fox\"\n",
    "li1 = list(s)\n",
    "\n",
    "li2 = []\n",
    "for letter in s:\n",
    "    li2.append(letter)\n",
    "    \n",
    "print(li1 == li2)\n",
    "\n",
    "\n",
    "# Create a string based on the ASCII codes for upper-case English letters\n",
    "\n",
    "li3 = []\n",
    "for code in range(65, 65+26):\n",
    "    li3.append(chr(code))\n",
    "\n",
    "print(li3)\n",
    "s2 = str(li3)  # Doesn't quite give what we want!\n",
    "print(s2)\n",
    "\n",
    "s3 = \"\".join(li3)  # A bit more involved to convert list of chars into a string\n",
    "print(s3, repr(s3))  # Showing both ways of printing a string in Python 3"
   ]
  },
  {
   "cell_type": "markdown",
   "metadata": {},
   "source": [
    "### Exploration B\n",
    "\n",
    "Lists can themselves contain lists (which we also refer to as \"nesting\"). \n",
    "\n",
    "You need to be clear about what is involved in working with such nesting, and also with some of the syntax required to access elements within nested lists."
   ]
  },
  {
   "cell_type": "code",
   "execution_count": null,
   "metadata": {},
   "outputs": [],
   "source": [
    "nums = [ [31, 41, 59], [26, 53, 58] ]\n",
    "print(nums)\n",
    "\n",
    "# iterating through these\n",
    "\n",
    "for outer in nums:\n",
    "    print(\"  \", outer)\n",
    "    for inner in outer:\n",
    "        print(\"    \", inner)\n",
    "print(\"-\" * 40)      \n",
    "        \n",
    "# Lists need not be the same size!\n",
    "\n",
    "nums = [ [97], [93, 23, 8, 4], [62, 64], [3383, 2, 7, 9, 5], [4] ]\n",
    "\n",
    "for outer in nums:\n",
    "    print(\"  \", outer)\n",
    "    for inner in outer:\n",
    "        print(\"    \", inner)\n"
   ]
  },
  {
   "cell_type": "code",
   "execution_count": null,
   "metadata": {},
   "outputs": [],
   "source": [
    "# Element access also reflects nesting.\n",
    "\n",
    "nums = [ [97], [93, 23, 8, 4], [62, 64], [3383, 2, 7, 9, 5], [4] ]\n",
    "\n",
    "i, j = 1, 3\n",
    "print(nums[1][3])\n",
    "\n",
    "i, j = 0, 0\n",
    "print(nums[i][j])\n",
    "\n",
    "i, j = 2, 3\n",
    "print(nums[i][j])\n",
    "\n",
    "# Why does the third print() fail?\n"
   ]
  },
  {
   "cell_type": "markdown",
   "metadata": {},
   "source": [
    "### Exploration C\n",
    "\n",
    "Although Python expressions describing tuples use `(` and `)`, and although using a tuple is very similar to using a list, tuples cannot be modified.\n",
    "\n",
    "***Note that the use of parentheses here is very different from how we might use it to indicate precedence in an arithmetic or logical expression.***"
   ]
  },
  {
   "cell_type": "code",
   "execution_count": null,
   "metadata": {},
   "outputs": [],
   "source": [
    "student1 = ('V00123456', \"Ripoll\", \"Shakira\", 1977)\n",
    "student2 = ('V00456123', 'Hamm', 'Jon', 1971)\n",
    "student3 = ('V00314159', 'Sheeran', 'Ed', 1991)\n",
    "student4 = ('V00159314', 'Monds-Watson', 'Bridie', 1996)\n",
    "\n",
    "print(student1[0])\n",
    "print(student2[1])\n",
    "print(student3[3])\n",
    "print(student4[2])\n",
    "\n",
    "# Why does the following line not work?\n",
    "\n",
    "student2[2] = 'Jonathan'"
   ]
  },
  {
   "cell_type": "code",
   "execution_count": null,
   "metadata": {},
   "outputs": [],
   "source": []
  },
  {
   "cell_type": "markdown",
   "metadata": {},
   "source": [
    "### Exploration D\n",
    "\n",
    "The \"arity\" of a tuple (i.e. whether it is a 1-tuple, or 2-tuple, or 3-tuple, etc.) can be used as part of assignment."
   ]
  },
  {
   "cell_type": "code",
   "execution_count": null,
   "metadata": {},
   "outputs": [],
   "source": [
    "student1 = ('V00123456', \"Ripoll\", \"Shakira\", 1977)\n",
    "student2 = ('V00456123', 'Hamm', 'Jon', 1971)\n",
    "student3 = ('V00314159', 'Sheeran', 'Ed', 1991)\n",
    "student4 = ('V00159314', 'Monds-Watson', 'Bridie', 1996)\n",
    "\n",
    "(snum, last, first, birth_year) = student3\n",
    "print(first, last, \"was born in\", birth_year)\n",
    "\n",
    "(_, last, first, birth_year) = student2\n",
    "print(first, last, \"was born in\", birth_year)\n",
    "\n",
    "print(\"-\" * 40)\n",
    "\n",
    "# And a list can be made up of tuples\n",
    "students = [student1, student2, student3, student4]\n",
    "\n",
    "for (_, last, first, birth_year) in students:\n",
    "    print(first, last, \"was born in\", birth_year)"
   ]
  },
  {
   "cell_type": "markdown",
   "metadata": {},
   "source": [
    "---\n",
    "\n",
    "### Exercises: Some notes\n",
    "\n",
    "* The code exercises below do not necessarily involve the use of tuples.\n",
    "* Rather, tuples are an ingredient for problem-solving, but an important focus for you is on writing functions that take list parameters.\n",
    "* Also: students must are not to `import` any modules as part of the solutions (as there is some functionality in the `math` module that would make coding a trivial exercise).\n",
    "\n",
    "**Therefore in brief**:\n",
    "\n",
    "* *Exercise 1*: Write a function `median` which takes a list of integers or flaots (or both) and returns the median of the list. This introduces the use of `sort`. It's important, however, that the original list is *not* modified. (If the list is empty, what would be a sensible value to return?)\n",
    "* *Exercise 2*: Given a list of tuples of the form `(str, str, int)` return a new list containing only those tuples where the `int` is below some `threshold` value.\n",
    "* *Exercises 3 and 4* are more advanced and build on the experiences of solving Exercises 1 and 2.\n",
    "\n",
    "---"
   ]
  },
  {
   "cell_type": "markdown",
   "metadata": {},
   "source": [
    "### Exercise 1\n",
    "\n",
    "Let's return to lists. Recall that there are methods / operations available on lists, such as `insert` and `append`.\n",
    "\n",
    "There are also many helpful operations which modified a list **in-place**. This is the case, for example, with `sort()`.\n",
    "\n",
    "Your task for this exercise:\n",
    "* The instructor will give you a list of random integers. In your `main`, assign these values to a list.\n",
    "* You are write a function called `median` which accepts a list as a parameter, and returns the median value of that list (i.e. the value that is in the middle of the list). Note that this will require you to sort the list first.\n",
    "\n",
    "Some code has been provided for you (i.e., the `main` plus a starter version of `median`)."
   ]
  },
  {
   "cell_type": "code",
   "execution_count": null,
   "metadata": {},
   "outputs": [],
   "source": [
    "def median(li):\n",
    "    return -1\n",
    "    \n",
    "    \n",
    "def main():\n",
    "    nums = []\n",
    "    \n",
    "    print(nums)\n",
    "    print(\"-\" * 40)\n",
    "    print(median(nums))\n",
    "    print(\"-\" * 40)\n",
    "    print(nums)\n",
    "    \n",
    "main()"
   ]
  },
  {
   "cell_type": "markdown",
   "metadata": {},
   "source": [
    "### Exercise 2\n",
    "\n",
    "Now let's work with tuples and lists together.\n",
    "\n",
    "The instructor will give you a list of triples that consist of an **actor's name**, the **actor's birth year**, and the **actors death year** (which is the special value `None` if the actor is still alive at the time the data was prepared or if there is no further information about the actor).\n",
    "\n",
    "Your task for the exercise:\n",
    "* Assign these tuples to a list in the `main`.\n",
    "* Write a function called `print_actor_data` which accepts a list of tuples and prints the data in a human-readable way."
   ]
  },
  {
   "cell_type": "code",
   "execution_count": null,
   "metadata": {},
   "outputs": [],
   "source": [
    "def print_actors_data(actor_list):\n",
    "    \"\"\"\n",
    "    purpose: Given a list of triples of the form (actor, birthyear, deathyear),\n",
    "    print the actor data in a human-readable way.\n",
    "    \"\"\"\n",
    "    result = []\n",
    "    \n",
    "    print(\"Whatchyou talkin' 'bout Willis?\")\n",
    "\n",
    "\n",
    "def main():\n",
    "    actors = []\n",
    "    \n",
    "    print_actors_data(actors)\n",
    "    \n",
    "main()    "
   ]
  },
  {
   "cell_type": "markdown",
   "metadata": {},
   "source": [
    "### Exercise 3\n",
    "\n",
    "Let's extend the work from Exercise 2.\n",
    "\n",
    "Your task for the exercise:\n",
    "* Write a function called `filter_actors` which accepts a list of tuples and an integer, and returns a list of tuples.\n",
    "* The purpose of the function is shown below. Please observe that this function is not meant to perform any console output!\n",
    "\n",
    "***Note: Even if you are aware of list comprehensions, you must not use them in this exercise.***"
   ]
  },
  {
   "cell_type": "code",
   "execution_count": null,
   "metadata": {},
   "outputs": [],
   "source": [
    "def filter_actors(actor_list, target_year):\n",
    "    \"\"\"\n",
    "    purpose: Given a list of triples of the form (actor, birthyear, deathyear),\n",
    "    produce a new list where only those tuples having birthyear <= targetyear\n",
    "    are returned.\n",
    "    \"\"\"\n",
    "\n",
    "            \n",
    "    return []\n",
    "\n",
    "def print_actors_data(actor_list):\n",
    "    \"\"\"\n",
    "    purpose: Given a list of triples of the form (actor, birthyear, deathyear),\n",
    "    print the actor data in a human-readable way.\n",
    "    \"\"\"\n",
    "    result = []\n",
    "    \n",
    "    print(\"Whatchyou talkin' 'bout Willis?\")\n",
    "\n",
    "    \n",
    "def main():\n",
    "    li = []\n",
    "    li2 = filter_actors(li, 1950)\n",
    "    \n",
    "    print_actors_data(li2)\n",
    "    \n",
    "main()    "
   ]
  },
  {
   "cell_type": "markdown",
   "metadata": {},
   "source": [
    "## Exercise 4\n",
    "\n",
    "It is also possible that tuples can be quite large, with a list of such tuples. In this exercise you'll work with some data where each part of the data for a player is in a different tuple. Your task is to combine this in some sensible way.\n",
    "\n",
    "Your task for the exercise:\n",
    "* Write a function called `player_information` as described."
   ]
  },
  {
   "cell_type": "code",
   "execution_count": null,
   "metadata": {},
   "outputs": [],
   "source": [
    "'''\n",
    "The 4 biggest tournaments in international tennis are called grand slams.\n",
    "They are -- Australian open, French Open, Wimbledon, US Open. \n",
    "A player's success in tennis is often measure by the number of grand slams\n",
    "the player has won. The list \"Tennis \" has 3 elements. \n",
    "First element -- is a tuple of the players that have won the most grand slams\n",
    "Second element -- is a of number of grand slams the player at that index in \n",
    "                the first element tuple has won\n",
    "\n",
    "Third element -- Each component in this tuple is a tuple with 4 integers\n",
    "            which gives information about grand slam wins at the 4 major\n",
    "            tournaments for the player at that index in the first element \n",
    "            of tennis. The tuples are in for the format \n",
    "            (Australian open, French Open, Wimbledon, US Open). \n",
    "            \n",
    "Lets take the example of Roy Emerson at index 4 in the first element of Tennis\n",
    "using index 4, Roy Emerson has won 12 grand slams total and the breakdown\n",
    "of the grand slams is (6,2,2,2). Comparing to the format of the tuple,\n",
    "(Australian open, French Open, Wimbledon, US Open), he has won 6 australian\n",
    "open, 2 wimbledon, 2 french open and 2 us open tournaments. \n",
    "\n",
    "WRITE A FUNCTION THAT TAKES Tennis AND PRINTS THE INFORMATION FOR EACH PLAYER.\n",
    "\n",
    "\n",
    "'''\n",
    "\n",
    "def player_information(data):\n",
    "    \n",
    "    \n",
    "def main():\n",
    "    \n",
    "    Tennis = [\n",
    "    ('Roger Federer', 'Rafael Nadal', 'Noval Djokovic', 'Pete Sampras', \n",
    "     'Roy Emerson', 'Rod Laver', 'Bjorn Borg', 'Bill Tilden', \n",
    "     'Fred Perry', 'Ken Rosewall'), \n",
    "    (20, 19, 17, 14, 12, 11, 11, 10, 8, 8), \n",
    "    (\n",
    "        (6, 1, 8, 5), (1, 12, 2, 4), (8, 1, 5, 3), (2, 0, 7, 5), \n",
    "     (6, 2, 2, 2), (3, 2, 4, 2), (0, 6, 5, 0), (0, 0, 3, 7), \n",
    "     (1, 1, 3, 3), (4, 2, 0, 2)\n",
    "    )\n",
    "        ]\n",
    "    \n",
    "    player_information(Tennis)"
   ]
  },
  {
   "cell_type": "markdown",
   "metadata": {},
   "source": [
    "Sample output (one possibility with respect to formatting):\n",
    "\n",
    "```\n",
    "Roger Federer has won a total of  20 grand slams. he has won  6 australian open,  1 french open  8 wimbledon  and  5 US open titles\n",
    "\n",
    "Rafael Nadal has won a total of  19 grand slams. he has won  1 australian open,  12 french open  2 wimbledon  and  4 US open titles\n",
    "\n",
    "Noval Djokovic has won a total of  17 grand slams. he has won  8 australian open,  1 french open  5 wimbledon  and  3 US open titles\n",
    "\n",
    "Pete Sampras has won a total of  14 grand slams. he has won  2 australian open,  0 french open  7 wimbledon  and  5 US open titles\n",
    "\n",
    "Roy Emerson has won a total of  12 grand slams. he has won  6 australian open,  2 french open  2 wimbledon  and  2 US open titles\n",
    "\n",
    "Rod Laver has won a total of  11 grand slams. he has won  3 australian open,  2 french open  4 wimbledon  and  2 US open titles\n",
    "\n",
    "Bjorn Borg has won a total of  11 grand slams. he has won  0 australian open,  6 french open  5 wimbledon  and  0 US open titles\n",
    "\n",
    "Bill Tilden has won a total of  10 grand slams. he has won  0 australian open,  0 french open  3 wimbledon  and  7 US open titles\n",
    "\n",
    "Fred Perry has won a total of  8 grand slams. he has won  1 australian open,  1 french open  3 wimbledon  and  3 US open titles\n",
    "\n",
    "Ken Rosewall has won a total of  8 grand slams. he has won  4 australian open,  2 french open  0 wimbledon  and  2 US open titles\n",
    "```"
   ]
  },
  {
   "cell_type": "markdown",
   "metadata": {},
   "source": [
    "## Submission\n",
    "\n",
    "Take a screenshot named `lab07_screenshot` showing your code and output of running the code for `exercise 3` and submit it in `Brightspace`. When in `Brightspace`, navigate as follows: `Content` --> `Labs` --> `lab participation (screenshots)`. Submit your screenshots at this location. \n",
    "\n",
    "Note: **There is no `stage` > `commit` > `push` required for this lab!**\n",
    "\n",
    "Submission is due `Sunday, 13th March, 11.55 pm` "
   ]
  }
 ],
 "metadata": {
  "kernelspec": {
   "display_name": "Python 3 (ipykernel)",
   "language": "python",
   "name": "python3"
  },
  "language_info": {
   "codemirror_mode": {
    "name": "ipython",
    "version": 3
   },
   "file_extension": ".py",
   "mimetype": "text/x-python",
   "name": "python",
   "nbconvert_exporter": "python",
   "pygments_lexer": "ipython3",
   "version": "3.9.7"
  }
 },
 "nbformat": 4,
 "nbformat_minor": 4
}
