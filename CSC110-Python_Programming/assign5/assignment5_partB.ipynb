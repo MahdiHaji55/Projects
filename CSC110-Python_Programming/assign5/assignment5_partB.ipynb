{
 "cells": [
  {
   "cell_type": "markdown",
   "metadata": {},
   "source": [
    "# CSC 110, Spring 2022\n",
    "\n",
    "\n",
    "## Assignment #5\n",
    "\n",
    "### Part B\n",
    "\n",
    "\n",
    "**Due: Monday, March 28, 2022, 9:00 am (via `stage` >> `commit` >> `push` within `jhub`)**\n"
   ]
  },
  {
   "cell_type": "code",
   "execution_count": null,
   "metadata": {},
   "outputs": [],
   "source": [
    "# Please change the two comment lines below to indicate your name & student number.\n",
    "# Name: Mahdi Haji Hosseini\n",
    "# Student #: V00968642"
   ]
  },
  {
   "cell_type": "markdown",
   "metadata": {},
   "source": [
    "### Important Note\n",
    "\n",
    "This is the second part (part B) of a two-part assignment. The first part (part A) is in the file named ```assignment5_partB.ipynb```\n",
    "\n",
    "### Introduction\n",
    "\n",
    "In this assignment you will write some Python statements within this Jupyter Notebook that are answers to the posed programming questions. By saving what you have written into the notebook, and submitting the resulting notebook as instructed, the teaching team will be able to evaluate your work.\n",
    "\n",
    "You are encouraged to create your own extra notebooks in order to experiment with programming ideas. Once you have solutions that you wish to submit, these can be copy-and-pasted **into this notebook and in the code cell required**. You should, however, always ensure your Python statements do work by evaluating them within this notebook.\n",
    "\n",
    "<mark> Submitting new notebooks will **not** be accepted. You must submit this notebook with your answers. \n",
    "\n",
    "**You must not change the name of this notebook file!!**\n",
    "\n",
    "**This notebook describes part B. Part A is described in another notebook.**\n",
    "\n",
    "### Computing summary stock-price data, now with CSV files\n",
    "\n",
    "The first part of this assignment presented to you some cleaned-up data extracted from CSV files. You then transformed this data in order to compute stock-data statistics for a single stock and a single month. In this part of the assignment you will utilize file-input operations to retrieve data stored in CSV files themselves.\n",
    "\n",
    "You have been given a subdirectory named `price-data/` containing six different CSV files, each containing one year's worth of stock-trading data for a particular company. ***CSV files are really just text files and therefore all routines used to read from a text file can be used with CSV files.*** \n",
    "\n",
    "You are to complete a function named ```compute_all_month_stats()``` that takes a single parameter (corresponding to the name of a file) and returns a list of tuples, one tuple per month of stock-trading statistics based on the contents of the file. The ```main()``` function provided will obtain a filename from the user and call your function with the filename as a parameter. ***If that file exists*** your function will return the computed list of tuples and the ```main()``` function (already provided) will print out that list’s contents. ***If that file does not exist*** then your function will output an error message and return ```None``` instead of a list.\n",
    "\n",
    "For example, if the user provides ```BCE.csv``` when prompted, the program will call ```compute_all_month_stats()``` with that string as a parameter. This function will compute for each month the statistics as described in part A, and the tuple for each month will have the format described in part A. Therefore given our example, the data returned from the function (*i.e.*, 12 tuples) will result in ```main()``` producing this output:\n",
    "```\n",
    "2021,3,56.33,44.6,50959400,2215626,10\n",
    "2021,4,47.55,45.01,27862600,1326790,10\n",
    "2021,5,50.09,47.28,26349400,1317470,8\n",
    "2021,6,50.9,48.73,27126500,1233023,10\n",
    "2021,7,50.2,48.12,18876800,898895,6\n",
    "2021,8,52.7,49.48,24999100,1136323,7\n",
    "2021,9,53.0,49.5,25683700,1223033,10\n",
    "2021,10,51.88,49.7,17297500,823690,11\n",
    "2021,11,52.02,50.18,19395600,923600,9\n",
    "2021,12,52.5,49.91,24520800,1114582,8\n",
    "2022,1,53.41,50.63,22283600,1114180,9\n",
    "2022,2,53.55,50.68,27653100,1455426,9```\n",
    "\n",
    "As a second example, if the user provides `not_a_file.csv` when prompted, then the program will call `compute_all_month_stats()` with that string as a parameter. As no such file exists, the function will return `None` and `main()` will cause nothing to be output.\n",
    "\n",
    "***You are welcome – and encouraged! – to use your code from part A to help construct your solution to this part B. However, you are not required to do so.***\n",
    "\n",
    "\n",
    "And here are some additional important notes:\n",
    "1. All CSV files are contained in the subdirectory named `price-data/`.\n",
    "1. The first line of each CSV file does not contain measurement data but rather a description of the data fields contained in each line. The data fields you will need for this part are: `Year`, `Month`, `Day`, `Open`, `High`, `Low`, `Close`, and `Volume`. You should read this first line from the file, but you need not do anything with it (i.e., the value returned from a call to ```readline()``` may be safely ignored). Also you may manually count the position of each field in the line, and hardcode those numbers in your solution (*e.g.*, `4` for `High`). ***You may assume that all files have the same number and order of data fields.***\n",
    "1. Please remember that strings are not integers or floats. You may need to call `int()`, `float()`, and `str()` when and where appropriate.\n",
    "1. The expected output for each of the provided CSV files is contained in a filename with a similar prefix but using `.txt` as the suffix. For example, the expected output for `T.csv` can be found contained `T.txt`. These ```.txt``` files are contained in the provided ZIP file. (Reminder: You are not to create the `.txt` files yourself.)\n",
    "1. Use `try` and `except` when writing code that deals with the possibility of a non-existent file.\n",
    "1. ***You are permitted to `import` only the `math` modules into your solution.* That is, may *not* use `re`, `pandas`, `itertools`, etc.).**"
   ]
  },
  {
   "cell_type": "code",
   "execution_count": 29,
   "metadata": {
    "scrolled": true
   },
   "outputs": [
    {
     "name": "stdin",
     "output_type": "stream",
     "text": [
      "What is the name of the CSV file (include suffix!):  BCE.csv\n"
     ]
    },
    {
     "ename": "NameError",
     "evalue": "name 'file_read' is not defined",
     "output_type": "error",
     "traceback": [
      "\u001b[0;31m---------------------------------------------------------------------------\u001b[0m",
      "\u001b[0;31mNameError\u001b[0m                                 Traceback (most recent call last)",
      "Input \u001b[0;32mIn [29]\u001b[0m, in \u001b[0;36m<module>\u001b[0;34m\u001b[0m\n\u001b[1;32m     95\u001b[0m         \u001b[38;5;28;01mfor\u001b[39;00m (yy, mm, hh, ll, vv, avg_vv, lower_close) \u001b[38;5;129;01min\u001b[39;00m all_stats:\n\u001b[1;32m     96\u001b[0m             \u001b[38;5;28mprint\u001b[39m(yy, mm, hh, ll, vv, avg_vv, lower_close, sep\u001b[38;5;241m=\u001b[39m\u001b[38;5;124m\"\u001b[39m\u001b[38;5;124m,\u001b[39m\u001b[38;5;124m\"\u001b[39m)\n\u001b[0;32m---> 99\u001b[0m \u001b[43mmain\u001b[49m\u001b[43m(\u001b[49m\u001b[43m)\u001b[49m\n",
      "Input \u001b[0;32mIn [29]\u001b[0m, in \u001b[0;36mmain\u001b[0;34m()\u001b[0m\n\u001b[1;32m     88\u001b[0m \u001b[38;5;28;01mdef\u001b[39;00m \u001b[38;5;21mmain\u001b[39m():\n\u001b[1;32m     89\u001b[0m     filename \u001b[38;5;241m=\u001b[39m \u001b[38;5;28minput\u001b[39m(\u001b[38;5;124m\"\u001b[39m\u001b[38;5;124mWhat is the name of the CSV file (include suffix!): \u001b[39m\u001b[38;5;124m\"\u001b[39m)\n\u001b[0;32m---> 90\u001b[0m     all_stats \u001b[38;5;241m=\u001b[39m \u001b[43mcompute_all_month_stats\u001b[49m\u001b[43m(\u001b[49m\u001b[43mfilename\u001b[49m\u001b[43m)\u001b[49m\n\u001b[1;32m     92\u001b[0m     all_stats\u001b[38;5;241m.\u001b[39msort()\n\u001b[1;32m     94\u001b[0m     \u001b[38;5;28;01mif\u001b[39;00m all_stats \u001b[38;5;241m!=\u001b[39m \u001b[38;5;28;01mNone\u001b[39;00m:\n",
      "Input \u001b[0;32mIn [29]\u001b[0m, in \u001b[0;36mcompute_all_month_stats\u001b[0;34m(filename)\u001b[0m\n\u001b[1;32m      2\u001b[0m \u001b[38;5;124;03m\"\"\"\u001b[39;00m\n\u001b[1;32m      3\u001b[0m \u001b[38;5;124;03mfunction: compute_all_month_stats\u001b[39;00m\n\u001b[1;32m      4\u001b[0m \u001b[38;5;124;03m\u001b[39;00m\n\u001b[0;32m   (...)\u001b[0m\n\u001b[1;32m     35\u001b[0m \u001b[38;5;124;03min order of data.\u001b[39;00m\n\u001b[1;32m     36\u001b[0m \u001b[38;5;124;03m\"\"\"\u001b[39;00m\n\u001b[1;32m     38\u001b[0m data \u001b[38;5;241m=\u001b[39m \u001b[38;5;28mopen\u001b[39m(\u001b[38;5;124m\"\u001b[39m\u001b[38;5;124mprice-data/\u001b[39m\u001b[38;5;124m\"\u001b[39m \u001b[38;5;241m+\u001b[39m filename, \u001b[38;5;124m'\u001b[39m\u001b[38;5;124mr\u001b[39m\u001b[38;5;124m'\u001b[39m)\n\u001b[0;32m---> 39\u001b[0m \u001b[43mfile_read\u001b[49m\u001b[38;5;241m.\u001b[39mreadline()\n\u001b[1;32m     40\u001b[0m data \u001b[38;5;241m=\u001b[39m []\n\u001b[1;32m     41\u001b[0m \u001b[38;5;28;01mfor\u001b[39;00m item \u001b[38;5;129;01min\u001b[39;00m file_read:\n",
      "\u001b[0;31mNameError\u001b[0m: name 'file_read' is not defined"
     ]
    }
   ],
   "source": [
    "def compute_all_month_stats(filename):\n",
    "    \"\"\"\n",
    "    function: compute_all_month_stats\n",
    "    \n",
    "    Given a filename\n",
    "       \n",
    "    Input parameter:\n",
    "    ----------------\n",
    "    \n",
    "    * filename: Pathname for some CSV file containing stock-price\n",
    "    data for twelve-month period.\n",
    "    \n",
    "    If the file cannot be opened, the function prints and error\n",
    "    message and returns None.\n",
    "    \n",
    "    If the file does exist, the function assumes the data is\n",
    "    organized in the comma-separated-value (CSV) format.\n",
    "    \n",
    "      \n",
    "    Output:\n",
    "    -------\n",
    "    *  The only output produced is if the file cannot be opened.\n",
    "    \n",
    "    \n",
    "    Return value:\n",
    "    -------------\n",
    "    A list with 12 tuples, one per month of the year, is produced.\n",
    "    Each tuple consists of seven values: the year; the month;\n",
    "    the highest price the stock traded in the month; the lowest price the\n",
    "    stock traded in the month; the total volume of shares traded in the month;\n",
    "    the average daily volume of shares traded in the month, rounded\n",
    "    to the nearest integer; and the number of days where the opening price\n",
    "    is higher than the closing price. Note that in this function you will\n",
    "    ignore the adjusted-close values. Also: the tuples must be\n",
    "    in order of data.\n",
    "    \"\"\"\n",
    "    \n",
    "    file_read = open(\"price-data/\" + filename, 'r')\n",
    "    file_read.readline()\n",
    "    data = []\n",
    "    for item in file_read:\n",
    "        item = item.strip()\n",
    "        stock = item.split(\",\")\n",
    "        temp_data = []\n",
    "        for items in stock[:3]:\n",
    "            temp_data.append(int(items))\n",
    "        for items in stock[3:]:\n",
    "            temp_data.append(float(items))\n",
    "    stock = temp_data\n",
    "    data.append(stock)\n",
    "    print(data)\n",
    "        \n",
    "    \n",
    "    \n",
    "    high_month = []\n",
    "    low_month = []\n",
    "    total_month = []\n",
    "    days_openclose = []\n",
    "    \n",
    "    for day_data in data:\n",
    "        \n",
    "        \n",
    "        highest_day = day_data[4]\n",
    "        high_month.append(float(highest_day))\n",
    "        \n",
    "        lowest_day = day_data[5]\n",
    "        low_month.append(float(lowest_day))\n",
    "        \n",
    "        volume = day_data[8]\n",
    "        total_month.append(int(volume))\n",
    "        \n",
    "        if day_data[3] > day_data[6]:\n",
    "            days_openclose.append(int(day_data[3]))\n",
    "                  \n",
    "    num_days = len(days_openclose)\n",
    "    t_volume = sum(total_month)\n",
    "    average = t_volume / len(list_data)\n",
    "    min_low = min(low_month)\n",
    "    max_high = max(high_month)\n",
    "    \n",
    "    summary_stats = (int(day_data[0]), int(day_data[1]), float(max_high), float(min_low), int(t_volume), int(average), int(num_days))\n",
    "    finished_list = []\n",
    "    finished_list.append(summary_stats)\n",
    "    return finished_list * 12  \n",
    "\n",
    "\n",
    "# Do not modify this main() function.\n",
    "def main():\n",
    "    filename = input(\"What is the name of the CSV file (include suffix!): \")\n",
    "    all_stats = compute_all_month_stats(filename)\n",
    "    \n",
    "    all_stats.sort()\n",
    "    \n",
    "    if all_stats != None:\n",
    "        for (yy, mm, hh, ll, vv, avg_vv, lower_close) in all_stats:\n",
    "            print(yy, mm, hh, ll, vv, avg_vv, lower_close, sep=\",\")\n",
    "            \n",
    "\n",
    "main()"
   ]
  },
  {
   "cell_type": "markdown",
   "metadata": {},
   "source": [
    "<div class=\"alert alert-block alert-danger\">\n",
    "Everything below this will be deleted. Only cells above will be considered in marking. Write your answers in the designated cell above. Do not add cells above. Do not write your answer by breaking it up into multiple cells.\n",
    "</div>"
   ]
  },
  {
   "cell_type": "markdown",
   "metadata": {},
   "source": [
    "## Marks\n",
    "\n",
    "* Part A is worth 3 marks (in ```assign05_a.ipynb```).\n",
    "* Part B is worth 7 marks (this file).\n",
    "* Total for assignment: 10 marks\n"
   ]
  },
  {
   "cell_type": "markdown",
   "metadata": {},
   "source": [
    "Copyright: 2022, Michael Zastre, University of Victoria, Canada"
   ]
  }
 ],
 "metadata": {
  "kernelspec": {
   "display_name": "Python 3 (ipykernel)",
   "language": "python",
   "name": "python3"
  },
  "language_info": {
   "codemirror_mode": {
    "name": "ipython",
    "version": 3
   },
   "file_extension": ".py",
   "mimetype": "text/x-python",
   "name": "python",
   "nbconvert_exporter": "python",
   "pygments_lexer": "ipython3",
   "version": "3.9.7"
  }
 },
 "nbformat": 4,
 "nbformat_minor": 4
}
