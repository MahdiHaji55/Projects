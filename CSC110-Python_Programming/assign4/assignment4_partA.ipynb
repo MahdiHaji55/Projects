{
 "cells": [
  {
   "cell_type": "markdown",
   "metadata": {},
   "source": [
    "# CSC 110, Spring 2022\n",
    "\n",
    "\n",
    "## Assignment #4\n",
    "\n",
    "### Part A\n",
    "\n",
    "\n",
    "**Due: Monday, March 14, 2022, 9:00 am (via `stage` >> `commit` >> `push` within `jhub`)**\n"
   ]
  },
  {
   "cell_type": "code",
   "execution_count": null,
   "metadata": {},
   "outputs": [],
   "source": [
    "# Please change the two comment lines below to indicate your name & student number.\n",
    "# Name: Mahdi Haji Hosseini\n",
    "# Student #: V00968642"
   ]
  },
  {
   "cell_type": "markdown",
   "metadata": {},
   "source": [
    "### Introduction\n",
    "\n",
    "In this assignment you will write some Python statements within this Jupyter Notebook that are answers to the posed programming questions. By saving what you have written into the notebook, and submitting the resulting notebook as instructed, the teaching team will be able to evaluate your work.\n",
    "\n",
    "You are encouraged to create your own extra notebooks in order to experiment with programming ideas. Once you have solutions that you wish to submit, these can be copy-and-pasted **into this notebook and in the code cell required**. You should, however, always ensure your Python statements do work by evaluating them within this notebook.\n",
    "\n",
    "<mark> Submitting new notebooks will **not** be accepted. You must submit this notebook with your answers. \n",
    "\n",
    "**You must not change the name of this notebook file!!**\n",
    "\n",
    "**This notebook describes part A. Part B is described in another notebook.**\n",
    "\n",
    "### Looking up Stanley Cup winners\n",
    "\n",
    "In the cell below is a list of tuples, where each tuple is of the form ```(year, name-of-hockey-team)``` or ```(int, str)```. The data contained in the list is of Stanley Cup winners since 1927.\n",
    "\n",
    "**When you use shift-enter within this cell**, the list will become part of this notebook's variable definitions and will afterards be accessible in any other code cell during the current `jhub` session."
   ]
  },
  {
   "cell_type": "code",
   "execution_count": null,
   "metadata": {},
   "outputs": [],
   "source": [
    "STANLEY_CUP_WINNERS = [ (2021, 'Tampa Bay Lightning'), (2020, 'Tampa Bay Lightning'), (2019, 'St. Louis Blues'), \n",
    "               (2018, 'Washington Capitals'), (2017, 'Pittsburgh Penguins'), (2016, 'Pittsburgh Penguins'), \n",
    "               (2015, 'Chicago Blackhawks'), (2014, 'Los Angeles Kings'), (2013, 'Chicago Blackhawks'), \n",
    "               (2012, 'Los Angeles Kings'), (2011, 'Boston Bruins'), (2010, 'Chicago Blackhawks'), \n",
    "               (2009, 'Pittsburgh Penguins'), (2008, 'Detroit Red Wings'), (2007, 'Anaheim Ducks'), \n",
    "               (2006, 'Carolina Hurricanes'), (2004, 'Tampa Bay Lightning'), (2003, 'New Jersey Devils'), \n",
    "               (2002, 'Detroit Red Wings'), (2001, 'Colorado Avalanche'), (2000, 'New Jersey Devils'), \n",
    "               (1999, 'Dallas Stars'), (1998, 'Detroit Red Wings'), (1997, 'Detroit Red Wings'), \n",
    "               (1996, 'Colorado Avalanche'), (1995, 'New Jersey Devils'), (1994, 'New York Rangers'), \n",
    "               (1993, 'Montreal Canadiens'), (1992, 'Pittsburgh Penguins'), (1991, 'Pittsburgh Penguins'), \n",
    "               (1990, 'Edmonton Oilers'), (1989, 'Calgary Flames'), (1988, 'Edmonton Oilers'), \n",
    "               (1987, 'Edmonton Oilers'), (1986, 'Montreal Canadiens'), (1985, 'Edmonton Oilers'), \n",
    "               (1984, 'Edmonton Oilers'), (1983, 'New York Islanders'), (1982, 'New York Islanders'), \n",
    "               (1981, 'New York Islanders'), (1980, 'New York Islanders'), (1979, 'Montreal Canadiens'), \n",
    "               (1978, 'Montreal Canadiens'), (1977, 'Montreal Canadiens'), (1976, 'Montreal Canadiens'), \n",
    "               (1975, 'Philadelphia Flyers'), (1974, 'Philadelphia Flyers'), (1973, 'Montreal Canadiens'), \n",
    "               (1972, 'Boston Bruins'), (1971, 'Montreal Canadiens'), (1970, 'Boston Bruins'), \n",
    "               (1969, 'Montreal Canadiens'), (1968, 'Montreal Canadiens'), (1967, 'Toronto Maple Leafs'), \n",
    "               (1966, 'Montreal Canadiens'), (1965, 'Montreal Canadiens'), (1964, 'Toronto Maple Leafs'), \n",
    "               (1963, 'Toronto Maple Leafs'), (1962, 'Toronto Maple Leafs'), (1961, 'Chicago Blackhawks'), \n",
    "               (1960, 'Montreal Canadiens'), (1959, 'Montreal Canadiens'), (1958, 'Montreal Canadiens'), \n",
    "               (1957, 'Montreal Canadiens'), (1956, 'Montreal Canadiens'), (1955, 'Detroit Red Wings'), \n",
    "               (1954, 'Detroit Red Wings'), (1953, 'Montreal Canadiens'), (1952, 'Detroit Red Wings'), \n",
    "               (1951, 'Toronto Maple Leafs'), (1950, 'Detroit Red Wings'), (1949, 'Toronto Maple Leafs'), \n",
    "               (1948, 'Toronto Maple Leafs'), (1947, 'Toronto Maple Leafs'), (1946, 'Montreal Canadiens'), \n",
    "               (1945, 'Toronto Maple Leafs'), (1944, 'Montreal Canadiens'), (1943, 'Detroit Red Wings'), \n",
    "               (1942, 'Toronto Maple Leafs'), (1941, 'Boston Bruins'), (1940, 'New York Rangers'), \n",
    "               (1939, 'Boston Bruins'), (1938, 'Chicago Blackhawks'), (1937, 'Detroit Red Wings'), \n",
    "               (1936, 'Detroit Red Wings'), (1935, 'Montreal Maroons'), (1934, 'Chicago Blackhawks'), \n",
    "               (1933, 'New York Rangers'), (1932, 'Toronto Maple Leafs'), (1931, 'Montreal Canadiens'), \n",
    "               (1930, 'Montreal Canadiens'), (1929, 'Boston Bruins'), (1928, 'New York Rangers'), \n",
    "               (1927, 'Ottawa Senators')]"
   ]
  },
  {
   "cell_type": "markdown",
   "metadata": {},
   "source": [
    "Your task for part A of assignment #4 is to complete the functions ```winning_years``` in the code cell below. Below is a transcript of two executions of the completed code.\n",
    "```\n",
    "What team are you searching for? Los Angeles Kings\n",
    "2012\n",
    "2014\n",
    "\n",
    "What team are you searching for? Vancouver Canucks\n",
    "The Vancouver Canucks have not yet won the Stanley Cup\n",
    "```\n",
    "\n",
    "You need not worry whether or not the team entered is a real NHL team (although *Anaheim Mighty Ducks* still sounds wrong to someone who remembers when Wayne Gretzky was a rookie player in the WHA).\n",
    "\n",
    "**Do not use any libraries for this assignment other than the standard library (i.e., no use of ```NumPy```, ```SciPy```, ```pandas```, etc. is permitted).**"
   ]
  },
  {
   "cell_type": "code",
   "execution_count": null,
   "metadata": {},
   "outputs": [],
   "source": [
    "# Your solution must appear in this code cell.\n",
    "\n",
    "def winning_years(query_team):\n",
    "    \"\"\"\n",
    "    function: winning_years\n",
    "    \n",
    "    Using a global list of tuples of the form (year, team name)\n",
    "    that corresponds to Stanley Cup winners since 1927, \n",
    "    and given an input parameter corresponding the team\n",
    "    for which we are completing this query, the functions\n",
    "    finds all years for which that team has won the Stanley\n",
    "    Cup. The years are returned in a list.\n",
    "    \n",
    "    Note that the code here may use STANLEY_CUP_WINNERS as a\n",
    "    global variable (i.e., it need not be passed into the\n",
    "    function as a parameter).\n",
    "       \n",
    "    Input:\n",
    "    ------\n",
    "    \n",
    "    * query_team: The team name which will be used to look\n",
    "      through the list of Stanley Cup winners.\n",
    "      \n",
    "    Output:\n",
    "    --------\n",
    "    \n",
    "    * A (possibly empty) list of integers that are the years\n",
    "      in which the query_team has won the Stanley Cup.\n",
    "    \"\"\"\n",
    "    years_list = []\n",
    "    for (year, team_name) in STANLEY_CUP_WINNERS:\n",
    "        if query_team == team_name:\n",
    "            years_list.append(year)\n",
    "    return years_list        \n",
    "\n",
    "\n",
    "\n",
    "def main():\n",
    "    \"\"\"\n",
    "    Query the user for the name of team for which you\n",
    "    are looking for Stanley Cup years. Call winning_years\n",
    "    with this team name; if the list returned is empty,\n",
    "    print \"Has not yet won the Stanley Cup\"; if the list\n",
    "    is not empty, print each year on its own line.\n",
    "    \"\"\"\n",
    "    team = input(\"What team are you searching for? \")\n",
    "    years = winning_years(team)\n",
    "    if (len(years) == 0):\n",
    "        print(\"The\", team, \"have not yet won the Stanley Cup\")\n",
    "    else:\n",
    "        for y in years:\n",
    "            print(y)\n",
    "\n",
    "main()"
   ]
  },
  {
   "cell_type": "markdown",
   "metadata": {},
   "source": [
    "<div class=\"alert alert-block alert-danger\">\n",
    "Everything below this will be deleted. Only cells above will be considered in marking. Write your answers in the designated cell above. Do not add cells above. Do not write your answer by breaking it up into multiple cells.\n",
    "</div>"
   ]
  },
  {
   "cell_type": "code",
   "execution_count": null,
   "metadata": {},
   "outputs": [],
   "source": []
  },
  {
   "cell_type": "markdown",
   "metadata": {
    "tags": []
   },
   "source": [
    "## Marks\n",
    "\n",
    "* Part A is worth 3 marks (this file)\n",
    "* Part B is worth 7 marks (in ```assignment4_partB.ipynb```).\n",
    "* Total for assignment: 10 marks\n"
   ]
  },
  {
   "cell_type": "markdown",
   "metadata": {},
   "source": [
    "Copyright: 2022, Michael Zastre, University of Victoria, Canada"
   ]
  }
 ],
 "metadata": {
  "kernelspec": {
   "display_name": "Python 3 (ipykernel)",
   "language": "python",
   "name": "python3"
  },
  "language_info": {
   "codemirror_mode": {
    "name": "ipython",
    "version": 3
   },
   "file_extension": ".py",
   "mimetype": "text/x-python",
   "name": "python",
   "nbconvert_exporter": "python",
   "pygments_lexer": "ipython3",
   "version": "3.9.7"
  }
 },
 "nbformat": 4,
 "nbformat_minor": 4
}
