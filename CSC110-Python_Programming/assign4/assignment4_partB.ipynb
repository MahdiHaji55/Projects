{
 "cells": [
  {
   "cell_type": "markdown",
   "metadata": {},
   "source": [
    "# CSC 110, Spring 2022\n",
    "\n",
    "\n",
    "## Assignment #4\n",
    "\n",
    "### Part B\n",
    "\n",
    "**Due: Monday, March 14, 2022, 9:00 am (via `stage` >> `commit` >> `push` within `jhub`)**\n"
   ]
  },
  {
   "cell_type": "code",
   "execution_count": null,
   "metadata": {},
   "outputs": [],
   "source": [
    "# Please change the two comment lines below to indicate your name & student number.\n",
    "# Name: Mahdi Haji Hosseini\n",
    "# Student #: V00968642"
   ]
  },
  {
   "cell_type": "markdown",
   "metadata": {},
   "source": [
    "### Introduction\n",
    "\n",
    "In this assignment you will write some Python statements within this Jupyter Notebook that are answers to the posed programming questions. By saving what you have written into the notebook, and submitting the resulting notebook as instructed, the teaching team will be able to evaluate your work.\n",
    "\n",
    "You are encouraged to create your own extra notebooks in order to experiment with programming ideas. Once you have solutions that you wish to submit, these can be copy-and-pasted **into this notebook and in the code cell required**. You should, however, always ensure your Python statements do work by evaluating them within this notebook.\n",
    "\n",
    "<mark> Submitting new notebooks will **not** be accepted. You must submit this notebook with your answers. \n",
    "\n",
    "**You must not change the name of this notebook file!!**\n",
    "\n",
    "**This notebook describes part B. Part A is described in another notebook.**\n",
    "    \n",
    "### National population estimates\n",
    "\n",
    "In the cell below is a list of tuples, where each tuple is of the form ```(year, midyear-population)``` \n",
    "or ```(int, int)```. The data contained in the list is based on estimates made by StatsCan of the Canadian population in the middle the given year and compiled together in one place by the Newfoundland and Labrador Statistics Agency. (The specific data provided in this assignment was obtained online from [Statistics Canada](https://statcan.gc.ca/en/start).\n",
    "\n",
    "**When you use shift-enter within this cell**, the list will become part of this notebook's variable definitions and will afterards be accessible in any other code cell during the current `jhub` session."
   ]
  },
  {
   "cell_type": "code",
   "execution_count": 19,
   "metadata": {},
   "outputs": [],
   "source": [
    "# population data\n",
    "MIDYEAR_POPULATION = [(1971, 21962032), (1972, 22218463), (1973, 22491777), (1974, 22807969), (1975, 23143275), \n",
    "                      (1976, 23449808), (1977, 23725843), (1978, 23963203), (1979, 24201544), (1980, 24515667),\n",
    "                      (1981, 24819915), (1982, 25116942), (1983, 25366451), (1984, 25607053), (1985, 25842116),\n",
    "                      (1986, 26100278), (1987, 26446601), (1988, 26791747), (1989, 27276781), (1990, 27691138),\n",
    "                      (1991, 28037420), (1992, 28371264), (1993, 28684764), (1994, 29000663), (1995, 29302311),\n",
    "                      (1996, 29610218), (1997, 29905948), (1998, 30155173), (1999, 30401286), (2000, 30685730),\n",
    "                      (2001, 31020596), (2002, 31358418), (2003, 31641630), (2004, 31938004), (2005, 32242364),\n",
    "                      (2006, 32570505), (2007, 32887928), (2008, 33245773), (2009, 33628571), (2010, 34005274), \n",
    "                      (2011, 34342780), (2012, 34750545), (2013, 35152370), (2014, 35535348), (2015, 35832513), \n",
    "                      (2016, 36264604), (2017, 36708083), (2018, 37065084), (2019, 37601230), (2020, 38037204),\n",
    "                      (2021, 38246108)]"
   ]
  },
  {
   "cell_type": "markdown",
   "metadata": {},
   "source": [
    "Your task for part B of assignment #4 is to complete the functions ```greatest_increase```, ```smallest_increase```, and ```average_percentage_increase``` in the code cell below. Note that unlike in part A of this assignment – where the data in the list could be accessed as a global variable – in **this** part of the assignment the list must be passed as an argument to the three functions.\n",
    "\n",
    "The code for ```main``` is already provided to you.\n",
    "\n",
    "Please note that we will test your assignment with data other than that provided in the cell above. For example, assuming the data used is as follows (with ```test_list``` defined in the ```main``` function):\n",
    "\n",
    "```\n",
    "test_list = [(1900, 10000), (1901, 10100), (1902, 10211), (1903, 10287)]\n",
    "```\n",
    "\n",
    "then the following is an expected transcript from a completed solution:\n",
    "\n",
    "```\n",
    "Greatest increase:  1902 111\n",
    "Smallest increase:  1903 76\n",
    "Average percentage increase: 0.95%\n",
    "```\n",
    "**Do not use any libraries for this assignment other than the standard library (i.e., no use of ```NumPy```, ```SciPy```, ```pandas``` etc. is permitted).**\n",
    "\n",
    "Hint: To iterate through a list starting from the second element, we can write:\n",
    "```\n",
    "for elem in some_list[1:]:\n",
    "    # body of for-loop\n",
    "```"
   ]
  },
  {
   "cell_type": "code",
   "execution_count": 20,
   "metadata": {},
   "outputs": [
    {
     "name": "stdout",
     "output_type": "stream",
     "text": [
      "Greatest increase:  2019 536146\n",
      "Smallest increase:  2021 208904\n",
      "Average percentage increase: 1.12%\n"
     ]
    }
   ],
   "source": [
    "# Your solution must appear in this code cell.\n",
    "# population data\n",
    "def greatest_increase(pop_stats):\n",
    "    max_diff = 0\n",
    "    max_elem = -1\n",
    "    for (population1, population2) in zip(pop_stats, pop_stats[1:]):\n",
    "        diff = (population2[1] - population1[1])\n",
    "        if diff > max_diff:\n",
    "            max_diff = diff\n",
    "            max_elem = population2[0]\n",
    "\n",
    "    return (max_elem, max_diff)\n",
    "\n",
    "\n",
    "def smallest_increase(pop_stats):\n",
    "    min_diff = None\n",
    "    min_elem = -1\n",
    "    for (population1, population2) in zip(pop_stats, pop_stats[1:]):\n",
    "        diff = (population2[1] - population1[1])\n",
    "        if min_diff is None or diff < min_diff:\n",
    "            min_diff = diff\n",
    "            min_elem = population2[0]\n",
    "\n",
    "    return (min_elem, min_diff)\n",
    "\n",
    "\n",
    "def average_percentage_increase(pop_stats):\n",
    "    sum_percent = 0\n",
    "\n",
    "    for (population1, population2) in zip(pop_stats, pop_stats[1:]):\n",
    "        sum_percent += (population2[1] - population1[1])*100/population1[1]\n",
    "\n",
    "    return sum_percent/len(pop_stats[1:])\n",
    "\n",
    "\n",
    "def main():\n",
    "    year, increase = greatest_increase(MIDYEAR_POPULATION)\n",
    "    print(\"Greatest increase: \", year, increase)\n",
    "\n",
    "    year, increase = smallest_increase(MIDYEAR_POPULATION)\n",
    "    print(\"Smallest increase: \", year, increase)\n",
    "\n",
    "    average = average_percentage_increase(MIDYEAR_POPULATION)\n",
    "    print(\"Average percentage increase: \", format(average, \".2f\"), \"%\", sep=\"\")\n",
    "\n",
    "\n",
    "main()"
   ]
  },
  {
   "cell_type": "markdown",
   "metadata": {},
   "source": [
    "<div class=\"alert alert-block alert-danger\">\n",
    "Everything below this will be deleted. Only cells above will be considered in marking. Write your answers in the designated cell above. Do not add cells above. Do not write your answer by breaking it up into multiple cells.\n",
    "</div>"
   ]
  },
  {
   "cell_type": "markdown",
   "metadata": {},
   "source": [
    "## Marks\n",
    "\n",
    "* Part A is worth 3 marks (in ```assignment4_partA.ipynb```).\n",
    "* Part B is worth 7 marks (this file).\n",
    "* Total for assignment: 10 marks\n"
   ]
  },
  {
   "cell_type": "markdown",
   "metadata": {},
   "source": [
    "Copyright: 2022, Michael Zastre, University of Victoria, Canada"
   ]
  }
 ],
 "metadata": {
  "kernelspec": {
   "display_name": "Python 3 (ipykernel)",
   "language": "python",
   "name": "python3"
  },
  "language_info": {
   "codemirror_mode": {
    "name": "ipython",
    "version": 3
   },
   "file_extension": ".py",
   "mimetype": "text/x-python",
   "name": "python",
   "nbconvert_exporter": "python",
   "pygments_lexer": "ipython3",
   "version": "3.9.7"
  }
 },
 "nbformat": 4,
 "nbformat_minor": 4
}
