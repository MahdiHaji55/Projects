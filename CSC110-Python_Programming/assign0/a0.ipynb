{
 "cells": [
  {
   "cell_type": "markdown",
   "id": "9257df80-5671-4049-a9fa-fac664a1e7a7",
   "metadata": {},
   "source": [
    "## UVic: Department of Computer Science\n",
    "### CSC 110 Fundamentals of Programming I (Spring 2022)\n",
    "\n",
    "### Assignment 0"
   ]
  },
  {
   "cell_type": "markdown",
   "id": "4199e0f2-b488-4b9d-9094-80828cd6e447",
   "metadata": {},
   "source": [
    "Note: This assignment is *not for credit* and its only purpose give you something you can use to experiment with submitting course assignments using JupyterHub."
   ]
  },
  {
   "cell_type": "markdown",
   "id": "23bd19b4-3055-43b0-b119-ec819cdb13ab",
   "metadata": {},
   "source": [
    "### Exercise\n",
    "\n",
    "You will write code to determine an employee's weekly pay. (The Python code for your calculations may be based on material you have already seen during course lectures.)\n",
    "\n",
    "The steps your program shall take are:\n",
    "1. Input from the user the *employee name*.\n",
    "1. Input from the user the *employee's hourly wage*.\n",
    "1. Input from the user the *number of hours work this week*.\n",
    "1. Calculate the *total pay* for the employee.\n",
    "1. Output this total pay to the user.\n",
    "\n",
    "For example, if the employee's name was `Alexandre Davison`, if their hourly wage was `45.50`, and if they worked for `32.5` hours, then the output expected would be:\n",
    "\n",
    "    Employee name: Alexandre Davidson\n",
    "    Total Pay: $ 1458.75\n",
    "    \n",
    "**Note**: All of this is oversimplified! For a real program that helps compute pay, we would need to compute withheld income tax, holiday pay, etc. Don't worry about these details!\n",
    "\n",
    "**Note**: ... and don't worry if your answer is not exactly formatted as shown in the example. **We will not be marking your code**, but rather we want to see that you have submitted this Assignment 0 notebook as instructed.\n",
    "\n",
    "**Hint**: Make sure you become friends with the `float()` type constructor."
   ]
  },
  {
   "cell_type": "code",
   "execution_count": null,
   "id": "5ed56209-60d6-4cd7-80e4-e36ce7ac0900",
   "metadata": {},
   "outputs": [],
   "source": [
    "# WRITE YOUR ANSWER CODE HERE. \n",
    "a =input(\"name?\")\n",
    "print(a)"
   ]
  },
  {
   "cell_type": "markdown",
   "id": "8cddd6c6-d470-4d6f-a4dc-eec4eb64b5b1",
   "metadata": {},
   "source": [
    "**For submission:** Please follow the instructions as described in the Lab 2 video (i.e. video provided to you in the `Lab 02` module in Brightspace)."
   ]
  }
 ],
 "metadata": {
  "kernelspec": {
   "display_name": "Python 3 (ipykernel)",
   "language": "python",
   "name": "python3"
  },
  "language_info": {
   "codemirror_mode": {
    "name": "ipython",
    "version": 3
   },
   "file_extension": ".py",
   "mimetype": "text/x-python",
   "name": "python",
   "nbconvert_exporter": "python",
   "pygments_lexer": "ipython3",
   "version": "3.9.7"
  }
 },
 "nbformat": 4,
 "nbformat_minor": 5
}
