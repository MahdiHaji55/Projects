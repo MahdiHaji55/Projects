{
 "cells": [
  {
   "cell_type": "markdown",
   "metadata": {},
   "source": [
    "# CSC 110, Spring 2022\n",
    "\n",
    "\n",
    "## Assignment #1\n",
    "\n",
    "\n",
    "**Due: Wednesday, February 2, 2022, 9:00 am (via `stage` >> `commit` >> `push` within `jhub`)**"
   ]
  },
  {
   "cell_type": "code",
   "execution_count": null,
   "metadata": {},
   "outputs": [],
   "source": [
    "# Please change the two comment lines below to indicate your name & student number.\n",
    "# Name: Mahdi Haji Hosseini\n",
    "# Student #: V00968642"
   ]
  },
  {
   "cell_type": "markdown",
   "metadata": {},
   "source": [
    "### Introduction\n",
    "\n",
    "In this assignment you will write some Python statements within this Jupyter Notebook that are answers to the posed programming questions. By saving what you have written into the notebook, and submitting the resulting notebook as instructed to do in the labs, the teaching team will be able to evaluate your work.\n",
    "\n",
    "Your are encouraged to create your own extra notebooks in order to experiment with programming ideas. Once you have solutions that you wish to submit, these can be copy-and-pasted **into this notebook**. You should, however, always ensure your Python statements do work by evaluating them within this notebook.\n",
    "\n",
    "**You must not change the name of this notebook file!!**"
   ]
  },
  {
   "cell_type": "markdown",
   "metadata": {
    "tags": []
   },
   "source": [
    "### Part B: Monthly payment for a mortgage\n",
    "\n",
    "Many mortgage instruments provided by banks and credit unions use standard formulas that compute the monthly payments for some loan amount provided to the customer where the loan as a specific length (i.e., the *term*) and for a specific annual interest rate.\n",
    "\n",
    "Let us suppose you have been asked by Sudev, your friend working at the Joyous Programmers Trust Company (JPTC) to help clients calculate monthly payments required for mortages at different interest rates and different terms. (More precisely, what is needed here is to determine the *fixed monthly payment required to fully amortize a loan*.)\n",
    "\n",
    "That is, Sudev's clients are interested in the monthly mortgage payment $P$ that would result for a mortage where:\n",
    "\n",
    "1. $L$ is the amount of the mortgage loan in *dollars*;\n",
    "1. $n$ is the *term* of the mortgage loan expressed in *number of months*; and\n",
    "1. $c$ is the *monthly interest rate* (i.e. if the quoted rate is 6%, then the monthly interest rate would be `0.06/12` or `0.005`).\n",
    "\n",
    "The standard formula for $P$ is:\n",
    "\n",
    "$$P = L[c(1 + c)^n] / [(1 + c)^n - 1]$$\n",
    "\n",
    "Write a program that performs the calculation of $P$ for you. The program should ask the user to input the following:\n",
    "\n",
    "1. The amount of original mortage loan\n",
    "1. The annual interest rate offered for the mortage\n",
    "1. The length of the mortgage term in months\n",
    "\n",
    "Once the input data has been entered, the program must calculate and display the monthly payment. Your solution **must not** implement the formula in a single statement; rather, compute intermediate expressions which make sense given the original formula's construction.\n",
    "\n",
    "**The user must enter the interest rate as a percentage, but without the '%' sign. That is, 6% would be entered as 6 and not as 0.06. Therefore your program will have to divide the input by 100 to move the decimal point to the correct position.** The value that is output must be printed with two decimal points; during lectures I have already given some descriptions of how output can be formatted in this way.\n",
    "\n",
    "If you would like to check your work, either use a scientific calculator or use this on line tool: `https://www.calculator.net/payment-calculator.html`\n"
   ]
  },
  {
   "cell_type": "code",
   "execution_count": 18,
   "metadata": {},
   "outputs": [
    {
     "name": "stdin",
     "output_type": "stream",
     "text": [
      "The amount of original mortage loan? 55\n",
      "The annual interest rate offered for the mortage? 55\n",
      "The length of the mortgage term in months? 5\n"
     ]
    },
    {
     "name": "stdout",
     "output_type": "stream",
     "text": [
      "12.56\n"
     ]
    }
   ],
   "source": [
    "# Code for Part B is appear in this notebook cell.\n",
    "# Mahdi Haji Hosseini\n",
    "L = int(input(\"The amount of original mortage loan?\"))\n",
    "C = int(input(\"The annual interest rate offered for the mortage?\"))/100/12\n",
    "N = int(input(\"The length of the mortgage term in months?\"))\n",
    "\n",
    "a = (1 + C)**N\n",
    "b = a - 1\n",
    "c = C*a\n",
    "d = L*c\n",
    "e = d/b\n",
    "\n",
    "\n",
    "\n",
    "\n",
    "print(round(e,2))\n",
    "\n"
   ]
  },
  {
   "cell_type": "markdown",
   "metadata": {},
   "source": [
    "### Marks\n",
    "\n",
    "* Part A (the other notebook) is worth 5 marks\n",
    "* Part B (this notebook) is worth 5 marks\n"
   ]
  },
  {
   "cell_type": "markdown",
   "metadata": {},
   "source": [
    "Copyright: 2022, Michael Zastre, University of Victoria, Canada"
   ]
  }
 ],
 "metadata": {
  "kernelspec": {
   "display_name": "Python 3 (ipykernel)",
   "language": "python",
   "name": "python3"
  },
  "language_info": {
   "codemirror_mode": {
    "name": "ipython",
    "version": 3
   },
   "file_extension": ".py",
   "mimetype": "text/x-python",
   "name": "python",
   "nbconvert_exporter": "python",
   "pygments_lexer": "ipython3",
   "version": "3.9.7"
  }
 },
 "nbformat": 4,
 "nbformat_minor": 4
}
