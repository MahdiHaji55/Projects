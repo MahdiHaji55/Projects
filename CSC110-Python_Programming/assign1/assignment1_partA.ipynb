{
 "cells": [
  {
   "cell_type": "markdown",
   "metadata": {},
   "source": [
    "# CSC 110, Spring 2021\n",
    "\n",
    "\n",
    "## Assignment #1\n",
    "\n",
    "### Part A\n",
    "\n",
    "\n",
    "**Due: Wednesday, February 2, 2022, 9:00 am (via `stage` >> `commit` >> `push` within `jhub`)**\n"
   ]
  },
  {
   "cell_type": "code",
   "execution_count": null,
   "metadata": {},
   "outputs": [],
   "source": [
    "# Please change the two comment lines below to indicate your name & student #.\n",
    "# Name: Mahdi Haji Hosseini\n",
    "# Student #: V00968642"
   ]
  },
  {
   "cell_type": "markdown",
   "metadata": {},
   "source": [
    "### Introduction\n",
    "\n",
    "In this assignment you will write some Python statements within this Jupyter Notebook that are answers to the posed programming questions. By saving what you have written into the notebook, and submitting the resulting notebook as instructed to do in the labs, the teaching team will be able to evaluate your work.\n",
    "\n",
    "Your are encouraged to create your own extra notebooks in order to experiment with programming ideas. Once you have solutions that you wish to submit, these can be copy-and-pasted **into this notebook**. You should, however, always ensure your Python statements do work by evaluating them within this notebook.\n",
    "\n",
    "**You must not change the name of this notebook file!!**"
   ]
  },
  {
   "cell_type": "markdown",
   "metadata": {},
   "source": [
    "### Dimensions of a strange ruined church\n",
    "\n",
    "In this fanciful exercise, you are part of an archaelogical team that is working some fictional location in the west of Ireland. The team has been asked to survey the ruin of church named Cillaspugelmo (\"Church of Bishop Elmo\"). You have been given a diagram showing the layout of perimeter of the original building that corresponds to the complex:\n",
    "\n",
    "<img src=\"https://github.com/zastre/uvic/blob/master/cillaspugelmo.png?raw=true\" width=\"300\">\n",
    "\n",
    "You are asked to compute the inside area of the building plan (i.e., the total area within the walls). In order to do this, you will write a bit of Python code. Since you need accurate measurements, here is the previous diagram but with lengths shown in metres:\n",
    "\n",
    "<img src=\"https://github.com/zastre/uvic/blob/master/cillaspugelmo_all.png?raw=true\" width=\"600\">\n",
    "\n",
    "Here are a few further observations:\n",
    "* The walls around `B` and `F` are semicircles.\n",
    "* The outside area `A` has the shape of a triangle.\n",
    "* The area of the very narrow corridor labelled `C` is considered part of the complete church's area; it connects the large area `E` with the smaller area `D`.\n",
    "\n",
    "Your task is to:\n",
    "* Compute the values of areas `B` and `F`, storing them in appropriately-name variables.\n",
    "* Compute the values of area `A`, storing it in an appropriately-named variable.\n",
    "* Compute the value of areas `C` and `D`, storing them in appropriately-named variables.\n",
    "* Compute any other values needed to computed the area of the complete structure (i.e., everything within the walls).\n",
    "* Print this combined-area value on the console (i.e., just the number).\n",
    "\n",
    "The formula for the circumference of a circle is $\\pi d$, for the area of a circle is $\\pi r^2$ and for the area of a triangle is $\\frac{1}{2}bh$. (You should know how to compute the area of a rectangle or of a square.) For the value of $\\pi$ you may use ```3.14159```.\n"
   ]
  },
  {
   "cell_type": "code",
   "execution_count": 1,
   "metadata": {},
   "outputs": [
    {
     "ename": "NameError",
     "evalue": "name 'Width_Of_E' is not defined",
     "output_type": "error",
     "traceback": [
      "\u001b[0;31m---------------------------------------------------------------------------\u001b[0m",
      "\u001b[0;31mNameError\u001b[0m                                 Traceback (most recent call last)",
      "Input \u001b[0;32mIn [1]\u001b[0m, in \u001b[0;36m<module>\u001b[0;34m\u001b[0m\n\u001b[1;32m      6\u001b[0m F \u001b[38;5;241m=\u001b[39m \u001b[38;5;241m0.5\u001b[39m\u001b[38;5;241m*\u001b[39m\u001b[38;5;241m3.14159\u001b[39m\u001b[38;5;241m*\u001b[39m\u001b[38;5;241m2.5\u001b[39m\u001b[38;5;241m*\u001b[39m\u001b[38;5;241m2.5\u001b[39m\n\u001b[1;32m      7\u001b[0m A \u001b[38;5;241m=\u001b[39m \u001b[38;5;241m0.5\u001b[39m\u001b[38;5;241m*\u001b[39m\u001b[38;5;241m10\u001b[39m\u001b[38;5;241m*\u001b[39m\u001b[38;5;241m3.25\u001b[39m\n\u001b[0;32m----> 8\u001b[0m E \u001b[38;5;241m=\u001b[39m \u001b[43mWidth_Of_E\u001b[49m\u001b[38;5;241m*\u001b[39m\u001b[38;5;241m10\u001b[39m\u001b[38;5;241m-\u001b[39mF\u001b[38;5;241m-\u001b[39mA\n\u001b[1;32m     10\u001b[0m Width_Of_E \u001b[38;5;241m=\u001b[39m \u001b[38;5;241m32.5\u001b[39m\u001b[38;5;241m-\u001b[39m\u001b[38;5;241m2.5\u001b[39m\u001b[38;5;241m-\u001b[39m\u001b[38;5;241m8\u001b[39m\n\u001b[1;32m     12\u001b[0m Total_Area \u001b[38;5;241m=\u001b[39m D\u001b[38;5;241m+\u001b[39mC\u001b[38;5;241m+\u001b[39mB\u001b[38;5;241m+\u001b[39mE\n",
      "\u001b[0;31mNameError\u001b[0m: name 'Width_Of_E' is not defined"
     ]
    }
   ],
   "source": [
    "# Code for Part A is appear in this notebook cell.\n",
    "# Mahdi Haji Hosseini\n",
    "D = 4*2.4\n",
    "C = 8*1.5\n",
    "B = 0.5*3.14159*5*5\n",
    "F = 0.5*3.14159*2.5*2.5\n",
    "A = 0.5*10*3.25\n",
    "E = Width_Of_E*10-F-A\n",
    "\n",
    "Width_Of_E = 32.5-2.5-8\n",
    "\n",
    "Total_Area = D+C+B+E\n",
    "\n",
    "\n",
    "print(Total_Area)"
   ]
  },
  {
   "cell_type": "markdown",
   "metadata": {},
   "source": [
    "### Marks\n",
    "\n",
    "* Part A (this notebook) is worth 5 marks\n",
    "* Part B (the other notebook) is worth 5 marks\n"
   ]
  },
  {
   "cell_type": "markdown",
   "metadata": {},
   "source": [
    "Copyright 2022 Mike Zastre, University of Victoria"
   ]
  }
 ],
 "metadata": {
  "kernelspec": {
   "display_name": "Python 3 (ipykernel)",
   "language": "python",
   "name": "python3"
  },
  "language_info": {
   "codemirror_mode": {
    "name": "ipython",
    "version": 3
   },
   "file_extension": ".py",
   "mimetype": "text/x-python",
   "name": "python",
   "nbconvert_exporter": "python",
   "pygments_lexer": "ipython3",
   "version": "3.9.7"
  }
 },
 "nbformat": 4,
 "nbformat_minor": 4
}
