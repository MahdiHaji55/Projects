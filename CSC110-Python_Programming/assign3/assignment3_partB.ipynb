{
 "cells": [
  {
   "cell_type": "markdown",
   "metadata": {},
   "source": [
    "# CSC 110, Spring 2022\n",
    "\n",
    "\n",
    "## Assignment #3\n",
    "\n",
    "### Part B\n",
    "\n",
    "\n",
    "**Due: Monday, February 28, 2022, 9:00 am (via `stage` >> `commit` >> `push` within `jhub`)**"
   ]
  },
  {
   "cell_type": "code",
   "execution_count": null,
   "metadata": {},
   "outputs": [],
   "source": [
    "# Please change the two comment lines below to indicate your name & student number.\n",
    "# Name: Mahdi Haji Hosseini\n",
    "# Student #: V00968642"
   ]
  },
  {
   "cell_type": "markdown",
   "metadata": {},
   "source": [
    "### Introduction\n",
    "\n",
    "In this assignment you will write some Python statements within this Jupyter Notebook that are answers to the posed programming questions. By saving what you have written into the notebook, and submitting the resulting IPython file via conneX, the teaching team will be able to evaluate your work.\n",
    "\n",
    "You are encouraged to create your own notebooks in order to experiment with programming ideas. Once you have solutions that you wish to submit, they can be copy-and-pasted into this notebook. You should, however, always ensure your Python statements do work by evaluating them within this notebook.\n",
    "\n",
    "**This notebook describes Part B. Part A is in another notebook.**"
   ]
  },
  {
   "cell_type": "markdown",
   "metadata": {},
   "source": [
    "### Part B: Post-office barcodes\n",
    "\n",
    "You may have received mail where Canada Post has stamped a kind of barcode on the envelope. The barcode is meant to represent the postal code of your mailing address. Such barcodes are used by machines as they are routed through mail-sorting centres: a machine can read these barcodes much more quickly than hand-written postal codes. A description of that bar-code standard can be found at https://en.wikipedia.org/wiki/PostBar. Although the full standard is too complicated to implement for this third programming assignment, we will explore the idea by writing something simpler.\n",
    "\n",
    "Consider UVic's postal code which is `V8W 2Y2` (or `V8W2Y2` when we eliminate the space as needed for this problem). We know that Canadian postal codes always have the same format of alternating letters and digits. In our assignment we will first convert all letters into two-digit codes (*e.g.*, `A` is `01`, `B` is `02`, etc.). This means UVic's code would be first converted into the sequence 22, 8, 23, 2, 25, 2, or the equivalent string `228232252`.\n",
    "\n",
    "However, we want to have a barcode, and so we will create this by using a string made up of the characters `|` (for a long bar) and `.` (for a short bar). Here is our conversion table for digit-to-barcode:\n",
    "\n",
    "```\n",
    "'0'    ||...\n",
    "'1'    |...|\n",
    "'2'    |..|.\n",
    "'3'    ...||\n",
    "'4'    ..|.|\n",
    "'5'    .||..\n",
    "'6'    ..||.\n",
    "'7'    ||...\n",
    "'8'    |.|.|\n",
    "'9'    .|.|.\n",
    "```\n",
    "\n",
    "With this conversion scheme, the barcode for UVic's postal code is:\n",
    "```\n",
    "|..|.|..|.|.|.||..|....|||..|.|..|..||..|..|.\n",
    "```\n",
    "\n",
    "For this part B of assignment #3 you are to **write three functions**:\n",
    "1. `digit_to_barcode(d)`: This function accepts a **single parameter**, and if the parameter matches a digit then it r**eturns** that digit's barcode; otherwise it **returns the string** `\"XXXXX\"`. You may use a long, multi-way `if-elif-else` for this function.\n",
    "1. `postalcode_to_digits(pc)`: The function accepts a **single parameter** which is also a postal code (with or without the middle space), and **returns** the sequence of digits corresponding to that postal code. You may assume that when evaluating your code, only properly-formed postal codes will be used. For example, if either `\"V8W 2Y2\"` or `\"V8W2Y2\"` are given the parameter, then `\"228232252\"` is to be returned. You may assume that when evaluating your code, only properly-formed postal codes will be used.\n",
    "1. `postalcode_to_barcode(pc)`: The function accepts a **single parameter** which is also a postal code (with or without the middle space), and **returns** the barcode corresponding to that postal code. You may assume that when evaluating your code, only properly-formed postal codes will be used.\n",
    "\n",
    "**A helper function has been given to you** in order to assist with converting letters into digits: `symbol_to_digits(s)`. If the argument to the function is an upper-case letter, then the appropriate digits for that letter are returned (including a leading zero if needed). If the argument  is a digit, then that digit is returned. If the argument is a space, then the empty string `\"\"` is returned.\n",
    "\n",
    "In addition, a `main()` function has been provided that calls `postalcode_to_barcode` with three different test cases. You are, of course, urged to construct additional test cases, and students are welcome to share such test cases and use them when they modify their `main()` function. **Note that only line of code permitted to be outside of any function definition is call to `main()`.**\n",
    "\n",
    "<mark>**In your solution you are not permitted to add any additional functions to the three required.**</mark>\n",
    "\n",
    "Lastly: You can take advantage of the fact that a string is also a sequence, and that a `for` loop iterates over sequences. For example, this code:\n",
    "```\n",
    "for char in \"bottle\":\n",
    "    print(\"-->\", char)\n",
    "```\n",
    "produces this output:\n",
    "```\n",
    "-->  b\n",
    "-->  o\n",
    "-->  t\n",
    "-->  t\n",
    "-->  l\n",
    "-->  e\n",
    "```"
   ]
  },
  {
   "cell_type": "code",
   "execution_count": 1,
   "metadata": {},
   "outputs": [
    {
     "ename": "SyntaxError",
     "evalue": "invalid syntax (3641670586.py, line 6)",
     "output_type": "error",
     "traceback": [
      "\u001b[0;36m  Input \u001b[0;32mIn [1]\u001b[0;36m\u001b[0m\n\u001b[0;31m    return (format(temp, \"02d\"), end=\"\")\u001b[0m\n\u001b[0m                                    ^\u001b[0m\n\u001b[0;31mSyntaxError\u001b[0m\u001b[0;31m:\u001b[0m invalid syntax\n"
     ]
    }
   ],
   "source": [
    "\n",
    "def symbol_to_digits(s): #this function will take postal code and turn it into digit\n",
    "    for i in s:\n",
    "        if ('A' <= i <= 'Z'):  \n",
    "            temp = ord(i)\n",
    "            temp -= 64\n",
    "            return (format(temp, \"02d\"), end=\"\")\n",
    "    \n",
    "        elif i == ' ':\n",
    "            return (\"\", end=\"\")\n",
    "    \n",
    "        else:\n",
    "            return (i, end=\"\")\n",
    "\n",
    "\n",
    "def digit_to_barcode(d): #this function will take digit and convert to barcode\n",
    "    for i in d:\n",
    "        if i == 0:\n",
    "            return (\"||...\", end=\"\")\n",
    "        elif i == 1:\n",
    "            return (\"|...|\", end=\"\")\n",
    "        elif i == 2:\n",
    "            return (\"|..|.\", end=\"\")\n",
    "        elif i == 3:\n",
    "            return (\"...||\", end=\"\")\n",
    "        elif i == 4:\n",
    "            return (\"..|.|\", end=\"\")\n",
    "        elif i == 5:\n",
    "            return (\".||..\", end=\"\")\n",
    "        elif i == 6:\n",
    "            return (\"..||.\", end=\"\")\n",
    "        elif i == 7:\n",
    "            return (\"||...\", end=\"\")\n",
    "        elif i == 8:\n",
    "            return (\"|.|.|\", end=\"\")\n",
    "        elif i == 9:\n",
    "            return (\".|.|.\", end=\"\")\n",
    "    \n",
    "    \n",
    "\n",
    "def postalcode_to_digits(pc): #this function will take PC that is transformed to digit and will convert it to barcode   \n",
    "    return digit_to_barcode(symbol_to_digits(pc))\n",
    "    \n",
    "\n",
    "def postalcode_to_barcode(pc): #this function will take postal code and send it to PC to digit\n",
    "    return postalcode_to_digits(pc)\n",
    "    \n",
    "    \n",
    "def main():\n",
    "    test_in = \"V8W 2Y2\"\n",
    "    test_out = \"|..|.|..|.|.|.||..|....|||..|.|..|..||..|..|.\"\n",
    "    barcode = postalcode_to_barcode(test_in)\n",
    "    print(test_in, \"passes\" if barcode == test_out else \"FAILS\")\n",
    "\n",
    "    \n",
    "main()\n",
    "\n",
    "# *Note*: I had diffiulty figuring out how to return if-else statements in the same line or the program would run perfectly and \n",
    "# it wouldnt run if i would have put , end=\"\" at the end of the return statement "
   ]
  },
  {
   "cell_type": "markdown",
   "metadata": {},
   "source": [
    "## Marks\n",
    "\n",
    "* Part A is worth 3 marks\n",
    "* Part B is worth 7 marks\n",
    "* Total for assignment: 10 marks\n"
   ]
  },
  {
   "cell_type": "markdown",
   "metadata": {},
   "source": [
    "Copyright: 2022, Michael Zastre, University of Victoria, Canada"
   ]
  }
 ],
 "metadata": {
  "kernelspec": {
   "display_name": "Python 3 (ipykernel)",
   "language": "python",
   "name": "python3"
  },
  "language_info": {
   "codemirror_mode": {
    "name": "ipython",
    "version": 3
   },
   "file_extension": ".py",
   "mimetype": "text/x-python",
   "name": "python",
   "nbconvert_exporter": "python",
   "pygments_lexer": "ipython3",
   "version": "3.9.7"
  }
 },
 "nbformat": 4,
 "nbformat_minor": 4
}
