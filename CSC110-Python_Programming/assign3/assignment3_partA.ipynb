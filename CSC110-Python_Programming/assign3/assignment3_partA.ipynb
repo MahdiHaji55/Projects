{
 "cells": [
  {
   "cell_type": "markdown",
   "metadata": {},
   "source": [
    "# CSC 110, Spring 2022\n",
    "\n",
    "\n",
    "## Assignment #3\n",
    "\n",
    "### Part A\n",
    "\n",
    "\n",
    "**Due: Monday, February 28, 2022, 9:00 am (via `stage` >> `commit` >> `push` within `jhub`)**\n"
   ]
  },
  {
   "cell_type": "code",
   "execution_count": null,
   "metadata": {},
   "outputs": [],
   "source": [
    "# Please change the two comment lines below to indicate your name & student number.\n",
    "# Name: Mahdi Haji Hosseini\n",
    "# Student #: V00968642"
   ]
  },
  {
   "cell_type": "markdown",
   "metadata": {},
   "source": [
    "### Introduction\n",
    "\n",
    "In this assignment you will write some Python statements within this Jupyter Notebook that are answers to the posed programming questions. By saving what you have written into the notebook, and submitting the resulting IPython file via conneX, the teaching team will be able to evaluate your work.\n",
    "\n",
    "You are encouraged to create your own notebooks in order to experiment with programming ideas. Once you have solutions that you wish to submit, they can be copy-and-pasted into this notebook. You should, however, always ensure your Python statements do work by evaluating them within this notebook.\n",
    "\n",
    "**This notebook describes Part A. Part B is in another notebook. **"
   ]
  },
  {
   "cell_type": "markdown",
   "metadata": {},
   "source": [
    "<div class=\"alert alert-block alert-danger\">\n",
    "    <b>Important:</b> All functions which the assignment requires you to complete must <b>exactly match</b>:\n",
    "    <ul>\n",
    "        <li> the spelling of the function's name,</li>\n",
    "        <li> the number of required function parameters,</li>\n",
    "        <li> and whether or not a value must be returned.</li>\n",
    "    </ul>\n",
    "    <p>Unless otherwise required by the assignment's description, functions are not to perform output (i.e., are not to make calls <code>print()</code>).</p>\n",
    "</div>"
   ]
  },
  {
   "cell_type": "markdown",
   "metadata": {},
   "source": [
    "### Part A: Some comparators\n",
    "\n",
    "We often need to determine quickly whether or not some values are the same, or are different, or are in sorted order. For this first part of the assignment, you will write several functions to answer this when we have three values. **Please note that none of these functions is permitted to print**, that is, the only effect had by the *black box* of the functions is to return the value of `True` or `False`.\n",
    "\n",
    "1. `in_order(a, b, c)` will return `True` if  `a` comes before `b` in numeric order, and `b` comes before `c` in numeric order; otherwise `False` is returned. For example: `in_order(4, 10, 12)` would return `True`; `in_order(4, 12, 10)` would return `False`; `inorder(4, 4, 4)` would return `False`.\n",
    "\n",
    "1. `all_equiv(a, b, c)` will return `True` if `a`, `b`, and `c` are all the same integer value; otherwise `False` is returned. For example, `all_equiv(4, 10, 12)` would return `False`; `all_equiv(4, 12, 10)` would return `False`; `all_equiv(4, 4, 4)` would return `True`.\n",
    "\n",
    "1. `all_other(a, b, c)` will return `True` if `a`, `b`, and `c` are different integer values; otherwise `False` is returned. For example, `all_other(4, 10, 12)` would return `True`; `all_other(4, 12, 10)` would return `True`; `all_other(4, 4, 4)` would return `False`.\n",
    "\n",
    "For all functions you may assume that only integers (either integer literals or variables referring to a integer) will be given as arguments. Please write a `main()` function that will test your work.\n",
    "\n",
    "Some starter code for `in_order` and `main` has been provided to you. You must change and add to all of this in order to complete the assignment.\n",
    "\n",
    "**In your solution you are not permitted to add any additional functions to the three required.**"
   ]
  },
  {
   "cell_type": "code",
   "execution_count": null,
   "metadata": {},
   "outputs": [],
   "source": [
    "# Something from which you can start.\n",
    "#\n",
    "# You may modify the code below as needed, but the call to main() must always be\n",
    "# the last line.\n",
    "#\n",
    "# Also: All of your solution for this Part A must appear in this single code cell.\n",
    "\n",
    "def in_order(a, b, c):\n",
    "    if a < b < c:\n",
    "        return True\n",
    "    else:\n",
    "        return False\n",
    "\n",
    "def all_equiv(a, b, c):\n",
    "    if a == b == c:\n",
    "        return True\n",
    "    else:\n",
    "        return False\n",
    "\n",
    "def all_other(a, b, c):\n",
    "    if a != b != c:\n",
    "        return True\n",
    "    else:\n",
    "        return False\n",
    "    \n",
    "def main():\n",
    "    a = int(input(\"first number?\"))\n",
    "    b = int(input(\"second number?\")) \n",
    "    c = int(input(\"third number?\"))\n",
    "    print(\"in_order(\",a,\",\", b,\",\", c,\"): passes? \", in_order(a, b, c) == True)\n",
    "    print(\"all_equiv(\",a,\",\", b,\",\", c,\"): passes? \", all_equiv(a, b, c) == True)\n",
    "    print(\"all_other(\",a,\",\", b,\",\", c,\"): passes? \", all_other(a, b, c) == True)\n",
    "main()"
   ]
  },
  {
   "cell_type": "markdown",
   "metadata": {},
   "source": [
    "## Marks\n",
    "\n",
    "* Part A is worth 3 marks\n",
    "* Part B is worth 7 marks\n",
    "* Total for assignment: 10 marks\n"
   ]
  },
  {
   "cell_type": "markdown",
   "metadata": {},
   "source": [
    "Copyright: 2022, Michael Zastre, University of Victoria, Canada"
   ]
  }
 ],
 "metadata": {
  "kernelspec": {
   "display_name": "Python 3 (ipykernel)",
   "language": "python",
   "name": "python3"
  },
  "language_info": {
   "codemirror_mode": {
    "name": "ipython",
    "version": 3
   },
   "file_extension": ".py",
   "mimetype": "text/x-python",
   "name": "python",
   "nbconvert_exporter": "python",
   "pygments_lexer": "ipython3",
   "version": "3.9.7"
  }
 },
 "nbformat": 4,
 "nbformat_minor": 4
}
