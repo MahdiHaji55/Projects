{
 "cells": [
  {
   "cell_type": "markdown",
   "metadata": {},
   "source": [
    "## UVic: Department of Computer Science\n",
    "## CSC 110 Fundamentals of Programming I (Spring 2022)\n",
    "\n",
    "* Lab 6: Week of February 28\n",
    "* All of your participation screenshots must be submitted to Brightspace by Sunday, March 6, 11:55 pm."
   ]
  },
  {
   "cell_type": "markdown",
   "metadata": {},
   "source": [
    "### This lab will cover the following topics\n",
    "\n",
    "The focus of this lab is on the concept of **lists** in Python.\n",
    "\n",
    "- creating lists\n",
    "- accessing elements of lists using indexing (postive and negative indexing)\n",
    "- iteration over a list using the `for` loop\n",
    "- Adding to lists (`append`, `insert`)\n",
    "\n",
    "**Your lab instructor will demonstrate several of these concepts through code examples to start the lab.**\n",
    "\n",
    "The lab instructor may also have time to consider a few additional topics:\n",
    "- Remove elements for a list (`remove`, `del`)\n",
    "- Use of `split()`\n",
    "- Some errors when using lists\n",
    "- referencing vs. copying lists\n",
    "    \n"
   ]
  },
  {
   "cell_type": "markdown",
   "metadata": {},
   "source": [
    "### Exercise 1a\n",
    "\n",
    "For the given list, print out all the elements in one row, separated by commas.\n",
    "\n",
    "`given_list = [\"Hello\", \"World\", \"It\", \"is\", \"a\", \"cold\", \"day\", \"today\"]`\n",
    "\n",
    "An example output is:\n",
    "\n",
    "`Hello, World, It, is, a, cold, day, today`"
   ]
  },
  {
   "cell_type": "code",
   "execution_count": 1,
   "metadata": {},
   "outputs": [],
   "source": [
    "# Write your code here"
   ]
  },
  {
   "cell_type": "markdown",
   "metadata": {},
   "source": [
    "### Exercise 1b\n",
    "\n",
    "For the given list, create and print another list with the corresponding lengths of words in this list. Use the `len()` function that will return the length of a string. As an example, for given list:\n",
    "\n",
    "`given_list = [\"Hello\", \"World\", \"Hi\", \"There\"]`\n",
    "\n",
    "your newly generated list, named `answer_list`, would be equivalent to:  \n",
    "\n",
    "`[5,5,2,5]`"
   ]
  },
  {
   "cell_type": "code",
   "execution_count": null,
   "metadata": {},
   "outputs": [],
   "source": [
    "# Write your code here"
   ]
  },
  {
   "cell_type": "markdown",
   "metadata": {},
   "source": [
    "### Exercise 1c:\n",
    "\n",
    "Compute the average of **all the *negative* numbers** in the given list."
   ]
  },
  {
   "cell_type": "code",
   "execution_count": null,
   "metadata": {},
   "outputs": [],
   "source": [
    "nums = [-3697, -997, -601, -6767, -6129, 8697, 36,\n",
    "        9882, 136, 6763, -3957, -4452, 8644, -8866,\n",
    "        -3269, 6493, 6711, 9348, -4925, -3916]\n",
    "\n",
    "# Write your code here"
   ]
  },
  {
   "cell_type": "markdown",
   "metadata": {},
   "source": [
    "### Exercise 1d:\n",
    "\n",
    "For the given list, compute the **total length** of **all** the words in the list. "
   ]
  },
  {
   "cell_type": "code",
   "execution_count": null,
   "metadata": {},
   "outputs": [],
   "source": [
    "words = ['bauxite', 'cadavers', 'magnificently', 'accost', 'Deidre', 'Salvadorans',\n",
    "         'lefties', 'quests', 'guessable', 'vaccine', 'Morse', 'code', 'is', 'a', 'method', 'used', 'in', \n",
    "         'telecommunication', 'to', 'encode', 'text', 'characters', 'as', 'standardized', 'sequences', \n",
    "         'of', 'two', 'different', 'signal', 'durations,', 'called', 'dots', 'and', 'dashes,', 'or', \n",
    "         'dits', 'and', 'dahs.', 'Morse', 'code', 'is', 'named', 'after', 'Samuel', 'Morse,', 'one', \n",
    "         'of', 'the', 'inventors', 'of', 'the', 'telegraph' ]\n",
    "\n",
    "# Write your code here"
   ]
  },
  {
   "cell_type": "markdown",
   "metadata": {},
   "source": [
    "## USING LISTS WITH FUNCTIONS\n",
    "\n",
    "Your instructor will show you some code.\n",
    "\n",
    "However, <mark>**do not run this code on the computer before the in-lab discussion.**</mark>\n",
    "\n",
    "Examine the code and try to determine <mark>**(without running the code)**</mark> what the output will be.\n",
    "\n",
    "Do you understand the nuances of the code and why outputs vary or don't vary?"
   ]
  },
  {
   "cell_type": "code",
   "execution_count": null,
   "metadata": {},
   "outputs": [],
   "source": [
    "# A few empty cells for trying things"
   ]
  },
  {
   "cell_type": "code",
   "execution_count": null,
   "metadata": {},
   "outputs": [],
   "source": [
    "# A few empty cells for trying things"
   ]
  },
  {
   "cell_type": "code",
   "execution_count": null,
   "metadata": {},
   "outputs": [],
   "source": [
    "# A few empty cells for trying things"
   ]
  },
  {
   "cell_type": "markdown",
   "metadata": {},
   "source": [
    "### Exercise 2:\n",
    "\n",
    "Follow the instructions below given in the comments (i.e. `STEP 1`, `STEP 2`, etc.)"
   ]
  },
  {
   "cell_type": "code",
   "execution_count": null,
   "metadata": {},
   "outputs": [],
   "source": [
    "sentence = \"International Morse Code encodes the 26 basic Latin letters A through Z, one accented Latin letter, \\\n",
    "the Arabic numerals, and a small set of punctuation and procedural signals (prosigns). There is no distinction \\\n",
    "between upper and lower case letters. Each Morse code symbol is formed by a sequence of dits and dahs. The dit \\\n",
    "duration is the basic unit of time measurement in Morse code transmission. The duration of a dah is three times \\\n",
    "the duration of a dit. Each dit or dah within an encoded character is followed by a period of signal absence, \\\n",
    "called a space, equal to the dit duration. The letters of a word are separated by a space of duration equal to \\\n",
    "three dits, and words are separated by a space equal to seven dits. Morse code can be memorized and sent in a \\\n",
    "form perceptible to the human senses, e.g. via sound waves or visible light, such that it can be directly \\\n",
    "interpreted by persons trained in the skill. Morse code is usually transmitted by on-off keying of an \\\n",
    "information-carrying medium such as electric current, radio waves, visible light, or sound waves. The current \\\n",
    "or wave is present during the time period of the dit or dah and absent during the time between dits and dahs. \\\n",
    "Since many natural languages use more than the 26 letters of the Latin alphabet, Morse alphabets have been \\\n",
    "developed for those languages, largely by transliteration of existing codes.To increase the efficiency of \\\n",
    "encoding, Morse code was designed so that the length of each symbol is approximately inverse to the frequency \\\n",
    "of occurrence of the character that it represents in text of the English language. Thus the most common letter \\\n",
    "in English, the letter E, has the shortest code: a single dit. Because the Morse code elements are specified \\\n",
    "by proportion rather than specific time durations, the code is usually transmitted at the highest rate that \\\n",
    "the receiver is capable of decoding. Morse code transmission rate (speed) is specified in groups per minute, \\\n",
    "commonly referred to as words per minute.\"\n",
    "\n",
    "\n",
    "# This function takes a list of words.\n",
    "#\n",
    "# It identifies words with a length of three, and creates a new list for these words\n",
    "def three_letter_words(words):\n",
    "    \n",
    "    # Write your code here\n",
    "\n",
    "    \n",
    "def total_length(words):\n",
    "    \n",
    "    # Write your code here\n",
    "\n",
    "    \n",
    "def replace_word(words, replaced_word, new_word):\n",
    "    # Write your code here\n",
    "    \n",
    "\n",
    "def main():\n",
    "    # STEP 1: Convert sentence into a list of words to be used in the function calls\n",
    "    words = sentence #WRITE CODE HERE\n",
    "\n",
    "    # STEP 2 Implement function three_letter_words, so that output of call below is a print out of a list of \n",
    "    # words of length 3\n",
    "\n",
    "    print(three_letter_words(words)) \n",
    "\n",
    "    # STEP 3 Implement function total_length so that output of the call below is a print of the cumulative length \n",
    "    # of all the words in the list words\n",
    "\n",
    "    print(total_length(words))\n",
    "\n",
    "    # STEP 4 Implement function replace_words, so that any word \"Morse\" in the list words is replaced by \"Moose\" \n",
    "    # Output will be the modified list words\n",
    "    replace_word(words, \"Morse\", \"Moose\")\n",
    "    print(words)\n",
    "\n",
    "main()"
   ]
  },
  {
   "cell_type": "markdown",
   "metadata": {},
   "source": [
    "## Submission\n",
    "\n",
    "Take a screenshot named `lab06_screenshot` showing your code and output of running the code for `exercise 4` and submit it in `Brightspace`. When in `Brightspace`, navigate as follows: `Content` --> `Labs` --> `lab participation (screenshots)`. Submit your screenshots at this location. \n",
    "\n",
    "Note: **There is no `stage` > `commit` > `push` required for this lab!**\n",
    "\n",
    "Submission is due `Sunday, 6th March, 11.55 pm` \n",
    "\n"
   ]
  }
 ],
 "metadata": {
  "kernelspec": {
   "display_name": "Python 3 (ipykernel)",
   "language": "python",
   "name": "python3"
  },
  "language_info": {
   "codemirror_mode": {
    "name": "ipython",
    "version": 3
   },
   "file_extension": ".py",
   "mimetype": "text/x-python",
   "name": "python",
   "nbconvert_exporter": "python",
   "pygments_lexer": "ipython3",
   "version": "3.9.7"
  }
 },
 "nbformat": 4,
 "nbformat_minor": 4
}
