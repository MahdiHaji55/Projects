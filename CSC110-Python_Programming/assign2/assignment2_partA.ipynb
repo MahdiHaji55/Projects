{
 "cells": [
  {
   "cell_type": "markdown",
   "metadata": {},
   "source": [
    "# CSC 110, Spring 2022\n",
    "\n",
    "\n",
    "## Assignment #2\n",
    "\n",
    "### Part A\n",
    "\n",
    "\n",
    "**Due: Wednesday, February 9, 2022, 9:00 am (via `stage` >> `commit` >> `push` within `jhub`)**"
   ]
  },
  {
   "cell_type": "code",
   "execution_count": null,
   "metadata": {},
   "outputs": [],
   "source": [
    "# Please change the two comment lines below to indicate your name & student number.\n",
    "# Name: Mahdi Haji Hosseini\n",
    "# Student #: V00968642"
   ]
  },
  {
   "cell_type": "markdown",
   "metadata": {},
   "source": [
    "### Introduction\n",
    "\n",
    "In this assignment you will write some Python statements within this Jupyter Notebook that are answers to the posed programming questions. By saving what you have written into the notebook, and submitting the resulting notebook as instructed to do in the labs, the teaching team will be able to evaluate your work.\n",
    "\n",
    "Your are encouraged to create your own extra notebooks in order to experiment with programming ideas. Once you have solutions that you wish to submit, these can be copy-and-pasted **into this notebook**. You should, however, always ensure your Python statements do work by evaluating them within this notebook.\n",
    "\n",
    "Submitting new notebooks will **not be accepted**. You must submit this notebook with your answers. \n",
    "\n",
    "**You must not change the name of this notebook file!!**\n",
    "\n",
    "**This notebook describes part A. Part B is described in another notebook.**"
   ]
  },
  {
   "cell_type": "markdown",
   "metadata": {},
   "source": [
    "### Part A: Product and shipping costs\n",
    "\n",
    "In the first part of this assignment you will play around with determining the cost of purchasing some specific number of product items. You will compute cost for the product and the cost of shipping, and this is based in part on the number of items purchased.\n",
    "\n",
    "Imagine you are writing a program to help a company named **Late-To-The-Game Fidget Spinners**. The price of one fidget spinner is $7.65 (Canadian), and each spinner weighs 95 grams. If up to four (4) spinners are purchased, there is no change to the price. However, higher purchase quantities do have discounts -- that is, as more spinners are purchased, the lower the cost per spinner:\n",
    "\n",
    "* from 5 to 9: 8% off\n",
    "* from 10 to 19: 15% off\n",
    "* from 20 to 59: 25% off\n",
    "* 60 to 89: 30% off\n",
    "* 90 or more: 35% off\n",
    "\n",
    "For example, if 27 fidget spinners are purchased, the cost will be ```7.65 * 0.75 * 27``` (i.e., 25% off the original price) which end up as ```154.9125``` which must be rounded to the closest cent, or ```154.91```. (When computing the cost of the spinners, only one price is used -- that is, we do not compute the cost for the first nine, then then next ten, then the next etc., etc.).\n",
    "\n",
    "This company is also an online enterprise and so must ship their product. For assignment simplicity, we will assume only one set of shipping rates. Shipping rates provided by the freight company servicing the company are determined by the weight of the package in kilograms (where 1000 grams equals one kilogram). Note that the heavier the package to be shipped, the more expensive is the cost per pound:\n",
    "\n",
    "* 0.5 kg or less: \\$5.00 per kg\n",
    "* over 0.5 kg but less than 3 kg: \\$7.50 per kg\n",
    "* 3 kg or more but less than 7 kg:$9.00 per kg\n",
    "* 7 kg or more : \\$11 per kg\n",
    "\n",
    "In our running example, the weight in kilograms of 27 spinners is ```0.095 * 27``` which is ``2.565`` kg. Therefore the cost of shipping is ```2.565 * 7.50``` which is ``19.2375`` -- and again we round to the closest cent, i.e., ```19.24```\n",
    "\n",
    "Your program will:\n",
    "\n",
    "1. **Prompt** the user for a one number (integer) from 1 up to and including 200.\n",
    "1. If the number it outside this range (i.e., a negative number, or a number greater than 200), then the program will display the error message **Given quantity not allowed** and stop.\n",
    "1. Otherwise the program **computes the cost of the spinners and the cost of shipping**.\n",
    "1. Finally the program will **output** the cost of spinners, the cost of shipping, and total cost (i.e., sum of previous two items). The three numbers will `each appear on their own line`. Given the example above, the output would be:\n",
    "\n",
    "\n",
    "```\n",
    "Cost of 27 spinners: $154.91 \n",
    "Cost of shipping: $19.24\n",
    "Total: $174.15\n",
    "```\n",
    "\n",
    "Your solution must make use of some combination of **if** statements, **if-else** statements, nested decision structures and **if-elif-else** statements (although you are not strictly required to use every one of the conditional-instruction forms just listed). For those who already know how to use lists and dictionary, you are **not** to use these in your solution.\n",
    "\n",
    "And some further notes on writing a solution:\n",
    "* Better solutions (i.e., ones getting more marks) will avoid answering the question in one big **if-elif-else** having 200 or so blocks (which would be exhausting to write).\n",
    "* You can take advantage of using temporary variables of your own choosing.\n",
    "* Please use the ```format()``` function to ensure the printed dollar amounts always have two decimal digits (e.g., 200.3 would be printed as ```$200.30```)."
   ]
  },
  {
   "cell_type": "code",
   "execution_count": null,
   "metadata": {},
   "outputs": [],
   "source": [
    "# Put in solution to Part A here.\n",
    "# Use *only* thsi code cell.\n",
    "#\n",
    "A = int(input(\"How many fidget spinners you want to buy?\"))\n",
    "\n",
    "if 1 <= A <= 200:\n",
    "    if 1 <= A <= 4:\n",
    "        B = 7.65*A*1\n",
    "    elif 5 <= A <= 9:\n",
    "        B = 7.65*A*0.92\n",
    "    elif 10 <= A <= 19:\n",
    "        B = 7.65*A*0.85\n",
    "    elif 20 <= A <= 59:\n",
    "        B = 7.65*A*0.75\n",
    "    elif 60 <= A <= 89:\n",
    "        B = 7.65*A*0.70\n",
    "    elif 90 <= A <= 200:\n",
    "        B = 7.65*A*0.65\n",
    "        \n",
    "    if 1 <= A <= 200:\n",
    "        C = A*0.095\n",
    "    if C <= 0.5:\n",
    "        D = C*5\n",
    "    elif 0.5 < C < 3:\n",
    "        D = C*7.5\n",
    "    elif 3 <= C < 7:\n",
    "        D = C*9\n",
    "    elif 7 <= C:\n",
    "        D = C*11        \n",
    "               \n",
    "    print(\"Cost of\",A,\"fidget spinners: $\",format(B,\"0.2f\"),\"\\n\"\"Cost of shipping: $\",format(D,\"0.2f\"),\"\\n\"\"Total: $\",format(B + D,\"0.2f\"))\n",
    "    \n",
    "            \n",
    "else:\n",
    "    print(\"Given quantity not allowed\")\n",
    "    \n",
    "    \n",
    "\n",
    "    \n",
    "    \n",
    "\n",
    "\n",
    "    \n",
    "\n",
    "\n",
    "\n"
   ]
  },
  {
   "cell_type": "markdown",
   "metadata": {},
   "source": [
    "##### Marks:\n",
    "\n",
    "* Part A is worth 6 marks\n",
    "* Part B is worth 4 marks\n",
    "* Total for assignment: 10 marks\n"
   ]
  },
  {
   "cell_type": "markdown",
   "metadata": {},
   "source": [
    "#### Copyright: 2022, Michael Zastre, University of Victoria, Canada"
   ]
  }
 ],
 "metadata": {
  "kernelspec": {
   "display_name": "Python 3 (ipykernel)",
   "language": "python",
   "name": "python3"
  },
  "language_info": {
   "codemirror_mode": {
    "name": "ipython",
    "version": 3
   },
   "file_extension": ".py",
   "mimetype": "text/x-python",
   "name": "python",
   "nbconvert_exporter": "python",
   "pygments_lexer": "ipython3",
   "version": "3.9.7"
  }
 },
 "nbformat": 4,
 "nbformat_minor": 4
}
