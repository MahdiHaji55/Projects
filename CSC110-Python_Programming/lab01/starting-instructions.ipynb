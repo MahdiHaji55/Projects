{
 "cells": [
  {
   "cell_type": "markdown",
   "metadata": {},
   "source": [
    "# <center>UNIVERSITY OF VICTORIA</center>\n",
    "# <center>Department of Computer Science</center>\n",
    "## <center>CSC 110 Fundamentals of Programming I (January 2022 to April 2022) </center>\n",
    "### <center>Course Instructor : Professor Mike Zastre</center>\n",
    "### <center>LAB 01 -- Monday, 17th January 2022 to Wednesday, 19th January 2022</center>"
   ]
  },
  {
   "cell_type": "markdown",
   "metadata": {},
   "source": [
    "### Things reviewed in lab\n",
    "\n",
    "- Log into `jhub.csc.uvic.ca` which we also refer to as `Jupyterhub` (use your netlink id and password). \n",
    "\n",
    "- Clone your course repository as directed by the instructor. (Note that *clone* step will only be needed once this semester).\n",
    "\n",
    "- A `Jupyterhub` cheatsheet of keyboard shortcuts is provided in `Brightspace` for your reference, although you are not to use it.\n",
    "\n",
    "- Open `practice.ipynb` in order to write some code. \n",
    "\n",
    "\n",
    "### The items covered in the exercises of this lab are:\n",
    "\n",
    "- Basics of opening, closing and navigating around Jupyterhub.\n",
    "- python exercises done in both the interpreter and jupyter. Topics covered in the python exercises are   \n",
    "    - variables. how variables are assigned in Python. Can variable types change after assignment? integers vs floats. reference semantics of variables in python.  \n",
    "    - Strings. Basics of creating, printing and concantenation of strings. No splicing of strings.   \n",
    "    - mathematical and logical operations\n",
    "    - printing, including print formatting. \n",
    "    - escape characters `\\n`, `\\t`, `\\'`, `\\\"`, `\\\\`\n",
    "\n",
    "### Your lab instructor will give you examples of problems to solve with code during the lab based on the above topics. \n",
    "\n",
    "### STEP 01: Log into `Jupyterhub`. \n",
    "\n",
    "Go to `jhub.csc.uvic.ca` and log in using your UVic credentials (Netlink username and password). All course work will be done and submitted here. \n",
    "\n",
    "### STEP 02: CLONE YOUR REPOSITORY\n",
    "\n",
    "* First you will need to create your own link by forming it in a manner similar to that below.\n",
    "    * `https://gitlab.csc.uvic.ca/courses/2022011/CSC110/assignments/NETLINKID/coursework.git`\n",
    "* In the link above, replace \"NETLINKID\" with you own netlinkid. For example, the link for Bonnie Henry (netlink username - `bonniehenry`) would be \n",
    "`https://gitlab.csc.uvic.ca/courses/2022011/CSC110/assignments/bonniehenry/coursework.git`\n",
    "\n",
    "* Go to \"Git\" pulldown menu the `JupyterHub` menu and select the `Clone a repository` operation. This will open a text book. \n",
    "\n",
    "* Copy-and-paste **the link you have created as directed above** into this box and click the `Clone` button. The Jupyterhub will ask for login credentials. Use your uvic netlink username and password. (This ensures to you -- and only you -- are able to access, and later modify, your code for this course).\n",
    "\n",
    "* In the left-hand column within `Jupyterhub`, you will now see a folder for your repository that has the name `coursework`. If you click on this folder to open it, you will see a file, `practice.ipynb` in that folder.\n",
    "\n",
    "* Open `practice.ipynb` for further instructions on continuing this lab. "
   ]
  },
  {
   "cell_type": "code",
   "execution_count": null,
   "metadata": {},
   "outputs": [],
   "source": []
  }
 ],
 "metadata": {
  "kernelspec": {
   "display_name": "Python 3",
   "language": "python",
   "name": "python3"
  },
  "language_info": {
   "codemirror_mode": {
    "name": "ipython",
    "version": 3
   },
   "file_extension": ".py",
   "mimetype": "text/x-python",
   "name": "python",
   "nbconvert_exporter": "python",
   "pygments_lexer": "ipython3",
   "version": "3.7.4"
  }
 },
 "nbformat": 4,
 "nbformat_minor": 4
}
