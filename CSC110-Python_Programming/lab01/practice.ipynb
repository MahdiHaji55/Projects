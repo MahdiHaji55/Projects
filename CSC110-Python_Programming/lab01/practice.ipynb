{
 "cells": [
  {
   "cell_type": "markdown",
   "metadata": {},
   "source": [
    "# <hi><center>UNIVERSITY OF VICTORIA</xcenter></h1>\n",
    "# <hi><center>Department of Computer Science</xcenter></h1>\n",
    "## <hi><center>CSC 110 Fundamentals of Programming I (January 2022 to April 2022) </xcenter></h1>\n",
    "### <hi><center>Course Instructor : Professor Mike Zastre</xcenter></h1>\n",
    "### <hi><center>LAB 01 -- Monday, 17th January 2022 to Wednesday, 19th January 2022</xcenter></h1>"
   ]
  },
  {
   "cell_type": "markdown",
   "metadata": {},
   "source": [
    "\n",
    "### Your lab instructor will give you examples of code\n",
    "\n",
    "### WRITE SOME CODE\n",
    "\n",
    "Open `practice.ipynb` and write some code and do the exercises\n",
    "\n",
    "\n",
    "### EXERCISE 01: Write code to print the following to screen using ONLY ONE print statement\n",
    "\n",
    "    Mike and Jennifer were discussing about where to go on holiday. \n",
    "\n",
    "    Mike said, \"Lets go to a national park, Glacier National Park / Jasper National Park\"\n",
    "\n",
    "    Jennifer said, \"Its winter, lets go to some tropical destination, Carribbean / Malaysia\"``"
   ]
  },
  {
   "cell_type": "code",
   "execution_count": null,
   "metadata": {},
   "outputs": [],
   "source": [
    "# WRITE YOUR CODE HERE"
   ]
  },
  {
   "cell_type": "markdown",
   "metadata": {},
   "source": [
    "### EXERCISE 02: Write code to create a personal card that produces output in the format of the output example below. You may add any lines as you wish.\n",
    "\n",
    "    Name: Kylo Ren\n",
    "    Occupation: Leadership\n",
    "    UVic #: V1234567\n",
    "\n",
    "    Hobbies: Amateur radar technician"
   ]
  },
  {
   "cell_type": "code",
   "execution_count": null,
   "metadata": {},
   "outputs": [],
   "source": [
    "# WRITE YOUR CODE HERE"
   ]
  },
  {
   "cell_type": "markdown",
   "metadata": {},
   "source": [
    "### SUBMISSION\n",
    "\n",
    "Take a screenshot of this workbook. It can be in any common format (jpeg, png, etc..). \n",
    "\n",
    "You will need to submit this in `Brightspace`. When at `Brightspace`, navigate as follows: `Content` --> `Labs` --> `lab participation (screenshots)`. Submit your screenshot image at this location. "
   ]
  },
  {
   "cell_type": "code",
   "execution_count": null,
   "metadata": {},
   "outputs": [],
   "source": []
  }
 ],
 "metadata": {
  "kernelspec": {
   "display_name": "Python 3",
   "language": "python",
   "name": "python3"
  },
  "language_info": {
   "codemirror_mode": {
    "name": "ipython",
    "version": 3
   },
   "file_extension": ".py",
   "mimetype": "text/x-python",
   "name": "python",
   "nbconvert_exporter": "python",
   "pygments_lexer": "ipython3",
   "version": "3.7.4"
  }
 },
 "nbformat": 4,
 "nbformat_minor": 4
}
