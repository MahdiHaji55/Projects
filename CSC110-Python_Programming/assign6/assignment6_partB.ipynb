{
 "cells": [
  {
   "cell_type": "markdown",
   "metadata": {},
   "source": [
    "# CSC 110, Spring 2022\n",
    "\n",
    "\n",
    "## Assignment #6\n",
    "\n",
    "### Part B\n",
    "\n",
    "\n",
    "**Due: Monday, April 11, 2022, 9:00 am (via `stage` >> `commit` >> `push` within `jhub`)**\n"
   ]
  },
  {
   "cell_type": "code",
   "execution_count": null,
   "metadata": {},
   "outputs": [],
   "source": [
    "# Please change the two comment lines below to indicate your name & student number.\n",
    "# Name: Mahdi Haji Hosseini\n",
    "# Student #: V00968642"
   ]
  },
  {
   "cell_type": "markdown",
   "metadata": {},
   "source": [
    "### Important Note\n",
    "\n",
    "This is the second part (part B) of a three-part assignment. The first part (part A) is in the file named ```assignment6_partA.ipynb```, and the third part (part C) is in the file named ```assignment6_partC.ipynb```.\n",
    "\n",
    "### Introduction\n",
    "\n",
    "In this assignment you will write some Python statements within this Jupyter Notebook that are answers to the posed programming questions. By saving what you have written into the notebook, and submitting the resulting notebook as instructed, the teaching team will be able to evaluate your work.\n",
    "\n",
    "You are encouraged to create your own extra notebooks in order to experiment with programming ideas. Once you have solutions that you wish to submit, these can be copy-and-pasted **into this notebook and in the code cell required**. You should, however, always ensure your Python statements do work by evaluating them within this notebook.\n",
    "\n",
    "<mark> Submitting new notebooks will **not** be accepted. You must submit this notebook with your answers. \n",
    "\n",
    "**You must not change the name of this notebook file!!**\n",
    "\n",
    "**This notebook describes part A. Part B is described in another notebook.**\n",
    "\n",
    "### Writing a class: `HardwareItem`\n",
    "\n",
    "You are to write a class named `HardwareItem` which is meant to represent an item that would be sold in a hardware store. For example, some of the things you might find would be:\n",
    "* spray paint, touch up paint, outdoor paint, etc.\n",
    "* painters tape, masking tape, electrical tape, etc.\n",
    "* tools like hammers and screwdrivers\n",
    "* nails\n",
    "* garbage bags\n",
    "* etc.\n",
    "\n",
    "Imagine you are walking through the aisles of most [Canadian Tire](https://www.canadiantire.com) stores, and you pretty much have the correct picture.\n",
    "\n",
    "Each instance of a `HardwareItem` class will consist of the following attributes:\n",
    "* `description` (a string)\n",
    "* `units` in inventory (an integer)\n",
    "* `price` which is the retail price of the item (a float)\n",
    "* `department` which is the general area represented a string\n",
    "\n",
    "The methods in `HardwareItem` that you are to write are:\n",
    "* a constructor\n",
    "* `getter`s for the four attributes\n",
    "* a method called `sold_item` which **decreases** the units in inventory by one\n",
    "* a method called `restock_item` which **increases** the units in inventory by one\n",
    "* an implementation of `__str__` that will produce output in precise format as shown below\n",
    "\n",
    "All code must appear in the cell below. A sample inventory is provided for you from which you can instantiate a list of all items. The output expected from the `main` provided below is:\n",
    "```\n",
    "#2 phillips screwdriver (small tools): $5.49 with 30 available\n",
    "30\n",
    "----------------------------------------\n",
    "#2 phillips screwdriver (small tools): $5.49 with 28 available\n",
    "----------------------------------------\n",
    "interior flat latex ceing paint (paint): $29.99 with 6 available\n",
    "6\n",
    "----------------------------------------\n",
    "interior flat latex ceing paint (paint): $29.99 with 7 available\n",
    "----------------------------------------\n",
    "```\n"
   ]
  },
  {
   "cell_type": "code",
   "execution_count": 9,
   "metadata": {
    "scrolled": true
   },
   "outputs": [
    {
     "name": "stdout",
     "output_type": "stream",
     "text": [
      "#2 phillips screwdriver (small tools): $5.49 with 30 available\n",
      "30\n",
      "----------------------------------------\n",
      "#2 phillips screwdriver (small tools): $5.49 with 28 available\n",
      "----------------------------------------\n",
      "interior flat latex ceiling paint (paint): $29.99 with 6 available\n",
      "6\n",
      "----------------------------------------\n",
      "interior flat latex ceiling paint (paint): $29.99 with 7 available\n",
      "----------------------------------------\n"
     ]
    }
   ],
   "source": [
    "SOME_ITEMS = [(\"#2 phillips screwdriver\", 30, 5.49, \"small tools\"),\n",
    "    (\"#0 phillips screwdriver\", 35, 5.49, \"small tools\"),\n",
    "    (\"3M blue tape\", 50, 3.95, \"paint\"),\n",
    "    (\"vinyl electric tape\", 21, 1.29, \"electrical\"),\n",
    "    (\"roofing nails 11-gauge 190pk\", 100, 7.79, \"fasteners\"),\n",
    "    (\"pan head sheet metal #8 & #10 220pk\", 20, 17.99, \"fasteners\"),\n",
    "    (\"black garbage bags 72L 100pk\", 5, 19.99, \"sundries\"),\n",
    "    (\"XL contractor bags 135L 40pk\", 11, 29.99, \"sundries\"),\n",
    "    (\"high-performance enamel primer\", 15, 16.49, \"paint\"),\n",
    "    (\"interior flat latex ceiling paint\", 6, 29.99, \"paint\"),\n",
    "    (\"kitchen & bath paint satin\", 4, 24.99, \"paint\")\n",
    "    ]\n",
    "\n",
    "class HardwareItem:\n",
    "    \n",
    "    def __init__(self, description, units, price, department):\n",
    "        self.description = description\n",
    "        self.units = units\n",
    "        self.price = price\n",
    "        self.department = department\n",
    "        \n",
    "        return              #returns the data of the list as assigned value to different functions within the class for use\n",
    "    \n",
    "    def __str__(self):\n",
    "        result = self.description + \" \" + \"(\" + self.department + \")\" + \":\" + \" \" + \"$\" + str(self.price) + \" \" + \"with\" + \" \" + str(self.units) + \" \" + \"available\"\n",
    "        return result       #returns the details of a certain hardware item\n",
    "    \n",
    "    def get_units(self):\n",
    "        return self.units   #getter for inventory\n",
    "    \n",
    "    def sold_item(self):\n",
    "        self.units -= 1     #subtracts 1\n",
    "        \n",
    "    def restock_item(self):\n",
    "        self.units += 1     #add 1\n",
    "\n",
    "    \n",
    "def main():\n",
    "    tool_item = HardwareItem(SOME_ITEMS[0][0], SOME_ITEMS[0][1],\n",
    "                            SOME_ITEMS[0][2], SOME_ITEMS[0][3])\n",
    "    \n",
    "    print(tool_item)\n",
    "    print(tool_item.get_units())\n",
    "    print(\"-\" * 40)\n",
    "    \n",
    "    tool_item.sold_item()\n",
    "    tool_item.sold_item()\n",
    "    print(tool_item)\n",
    "    print(\"-\" * 40)\n",
    "    \n",
    "    \n",
    "    paint_item = HardwareItem(SOME_ITEMS[9][0], SOME_ITEMS[9][1],\n",
    "                        SOME_ITEMS[9][2], SOME_ITEMS[9][3])\n",
    "    \n",
    "    print(paint_item)\n",
    "    print(paint_item.get_units())\n",
    "    print(\"-\" * 40)\n",
    "    \n",
    "    paint_item.restock_item()\n",
    "    print(paint_item)\n",
    "    print(\"-\" * 40)\n",
    "    \n",
    "    \n",
    "main()"
   ]
  },
  {
   "cell_type": "markdown",
   "metadata": {},
   "source": [
    "<div class=\"alert alert-block alert-danger\">\n",
    "Everything below this will be deleted. Only cells above will be considered in marking. Write your answers in the designated cell above. Do not add cells above. Do not write your answer by breaking it up into multiple cells.\n",
    "</div>"
   ]
  },
  {
   "cell_type": "markdown",
   "metadata": {},
   "source": [
    "## Marks\n",
    "\n",
    "* Part A is worth 3 marks (in ```assign06_b.ipynb```)\n",
    "* Part B is worth 3 marks (this file).\n",
    "* Part C is worth 4 marks (in ```assign06_c.ipynb```).\n",
    "* Total for assignment: 10 marks"
   ]
  },
  {
   "cell_type": "markdown",
   "metadata": {},
   "source": [
    "Copyright: 2022, Michael Zastre, University of Victoria, Canada"
   ]
  }
 ],
 "metadata": {
  "kernelspec": {
   "display_name": "Python 3 (ipykernel)",
   "language": "python",
   "name": "python3"
  },
  "language_info": {
   "codemirror_mode": {
    "name": "ipython",
    "version": 3
   },
   "file_extension": ".py",
   "mimetype": "text/x-python",
   "name": "python",
   "nbconvert_exporter": "python",
   "pygments_lexer": "ipython3",
   "version": "3.9.7"
  }
 },
 "nbformat": 4,
 "nbformat_minor": 4
}
