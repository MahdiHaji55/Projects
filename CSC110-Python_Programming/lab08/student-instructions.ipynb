{
 "cells": [
  {
   "cell_type": "markdown",
   "metadata": {},
   "source": [
    "## UVic: Department of Computer Science\n",
    "## CSC 110 Fundamentals of Programming I (Spring 2022)\n",
    "\n",
    "* Lab 8: Week of March 14\n",
    "* All of your participation screenshots must be submitted to Brightspace by Sunday, March 20, 11:55 pm."
   ]
  },
  {
   "cell_type": "markdown",
   "metadata": {},
   "source": [
    "### This lab will cover the following topics\n",
    "\n",
    "* Working with *file pathnames*\n",
    "* File input in Python\n",
    "* Some string operations that help with processing of text within files"
   ]
  },
  {
   "cell_type": "markdown",
   "metadata": {},
   "source": [
    "### Exploration A\n",
    "\n",
    "The concept of a **pathname** is somewhat subtle.\n",
    "\n",
    "You may be used to using search windows to locate files, or to traverse through your files and directories by using Windows Explorer or the macOS Finder. However, these mechanisms are not accessible to us when we write programs that work with files.\n",
    "\n",
    "A pathname captures all of the information needed to locate a particular file or directory in a file system. It does so as a string where, from left to right, the **path** taken through the filesystem to reach a file is denoted.\n",
    "\n",
    "And as mentioned in lectures, lots can go wrong with working with files and pathnames. Play along with the experiments/explorations that appear immediate below."
   ]
  },
  {
   "cell_type": "code",
   "execution_count": null,
   "metadata": {},
   "outputs": [],
   "source": [
    "def main():\n",
    "    # hello-01.txt is in the same directory as the notebook\n",
    "    file_read = open(\"hello-01.txt\", 'r')\n",
    "\n",
    "    data = file_read.read()\n",
    "    print(repr(data))     # repr() tells us a bit more about the value we are printing.\n",
    "\n",
    "    file_read.close()\n",
    "\n",
    "    # Make sure that you get into the habit of closing file objects.\n",
    "    # While you might not notice a different when working with file\n",
    "    # input, forgetting to close can result in subtle and hard-to-find\n",
    "    # errors/bugs when working with file output.\n",
    "    \n",
    "main()"
   ]
  },
  {
   "cell_type": "code",
   "execution_count": null,
   "metadata": {},
   "outputs": [],
   "source": [
    " def main():\n",
    "    # Can also use readline, although it behaves entirely different from read.\n",
    "\n",
    "    file_read = open(\"hello-01.txt\", 'r')\n",
    "\n",
    "    data = file_read.readline()\n",
    "    print(repr(data))\n",
    "\n",
    "    file_read.close()\n",
    "    \n",
    "main()"
   ]
  },
  {
   "cell_type": "code",
   "execution_count": null,
   "metadata": {},
   "outputs": [],
   "source": [
    " def main():\n",
    "    # hello-02.txt is in another location\n",
    "    file_read = open(\"hello-02.txt\", 'r')\n",
    "\n",
    "    data = file_read.read()\n",
    "    print(repr(data))\n",
    "\n",
    "\n",
    "    file_read.close()\n",
    "\n",
    "    # ERROR -- need to give the valid path. So what is wrong here??!\n",
    "    \n",
    "main()"
   ]
  },
  {
   "cell_type": "markdown",
   "metadata": {},
   "source": [
    "### Exploration B\n",
    "\n",
    "When working with file objects, you need to be clear on the behavior/different between using `read()` and `readlines()`. You also need to be aware of the looping construct most suitable for working with files."
   ]
  },
  {
   "cell_type": "code",
   "execution_count": null,
   "metadata": {},
   "outputs": [],
   "source": [
    "def main():\n",
    "    # read reads all the lines\n",
    "    file_read = open(\"files/Australia/Sydney.txt\", 'r')   # Notice the pathname! Where is Sydney.txt located?\n",
    "\n",
    "    data = file_read.read()\n",
    "    print(repr(data))\n",
    "\n",
    "    file_read.close()\n",
    "    \n",
    "main()"
   ]
  },
  {
   "cell_type": "code",
   "execution_count": null,
   "metadata": {},
   "outputs": [],
   "source": [
    " def main():\n",
    "    # Read one line at a time\n",
    "    file_read = open(\"files/Australia/Sydney.txt\", 'r')\n",
    "\n",
    "    while (file_read):\n",
    "        data = file_read.readline()\n",
    "        print(data)\n",
    "\n",
    "    file_read.close()\n",
    "\n",
    "    # NOTE: When run, this cell goes into an infinite loop\n",
    "    # Can you figure out how to fix this? Ask your instructor\n",
    "    # if you're stuck!\n",
    "    \n",
    "main()"
   ]
  },
  {
   "cell_type": "code",
   "execution_count": null,
   "metadata": {},
   "outputs": [],
   "source": [
    "def main():\n",
    "    file_read = open(\"files/Australia/Sydney.txt\", 'r')\n",
    "\n",
    "    data = file_read.readline()\n",
    "    while (data):\n",
    "        print(data)\n",
    "        data = file_read.readline()\n",
    "\n",
    "    file_read.close()\n",
    "    \n",
    "main()"
   ]
  },
  {
   "cell_type": "code",
   "execution_count": null,
   "metadata": {},
   "outputs": [],
   "source": [
    " def main():\n",
    "    # Reading from a file using a for loop\n",
    "\n",
    "    file_read = open(\"files/Australia/Sydney.txt\", 'r')\n",
    "\n",
    "    for line in file_read:\n",
    "        print(line)\n",
    "\n",
    "    file_read.close()\n",
    "\n",
    "    # When you look at the contents of Sydney.txt using the jhub browswer,\n",
    "    # you'll see that there are no blank lines between the texts line\n",
    "    # in the file. So why are there blank lines in the output from\n",
    "    # the program above?\n",
    "\n",
    "main()"
   ]
  },
  {
   "cell_type": "markdown",
   "metadata": {},
   "source": [
    "### Exercise 1\n",
    "\n",
    "Find the following files in `jhub` browser, and write down what their pathnames would be assuming the current directory is `lab08`.\n",
    "\n",
    "- `deck-o-cards.txt`\n",
    "- `my-pome.txt`\n",
    "- `poem-donne.txt`\n",
    "- `poem-shakesphere-sonnet.txt`\n",
    "- `kelowna.csv`\n",
    "- `prince-george.csv`\n",
    "- `UVic.txt`"
   ]
  },
  {
   "cell_type": "code",
   "execution_count": null,
   "metadata": {},
   "outputs": [],
   "source": [
    "# Code cell for your tinkering"
   ]
  },
  {
   "cell_type": "markdown",
   "metadata": {},
   "source": [
    "### Exercise 2\n",
    "\n",
    "How many *lines* are there in `UVic.txt`? And what strategy can your code use to find the answer?\n",
    "\n",
    "**IMPORTANT**: The solution to this problem and others below should not be found by madly typing terms into search engines to find a trick. While there is a place for Harry Potter programming (i.e. \"finding the spell\"), there is no place for it in this course."
   ]
  },
  {
   "cell_type": "code",
   "execution_count": null,
   "metadata": {},
   "outputs": [],
   "source": [
    "# Code cell for your tinkering"
   ]
  },
  {
   "cell_type": "markdown",
   "metadata": {},
   "source": [
    "### Exercise 3\n",
    "\n",
    "How many characters (letters, spacing, newlines, etc.) are there in `UVic.txt`? And what strategy can your code use to find the answer?"
   ]
  },
  {
   "cell_type": "code",
   "execution_count": null,
   "metadata": {},
   "outputs": [],
   "source": [
    "# Code cell for your tinkering"
   ]
  },
  {
   "cell_type": "code",
   "execution_count": null,
   "metadata": {},
   "outputs": [],
   "source": [
    "# Code cell for your tinkering"
   ]
  },
  {
   "cell_type": "markdown",
   "metadata": {},
   "source": [
    "### Further exercises\n",
    "\n",
    "If you have reached this far and have not yet broken a sweat (!) then ask your instructor for some additional problems. These may include:\n",
    "\n",
    "- finding the number of words in text file\n",
    "- finding all the words of length 4 in document\n",
    "- reading one of the Comma-Separate Value (`.csv`) files and obtaining all values in a particular column\n"
   ]
  },
  {
   "cell_type": "code",
   "execution_count": null,
   "metadata": {},
   "outputs": [],
   "source": [
    "# Code cell for your tinkering"
   ]
  },
  {
   "cell_type": "code",
   "execution_count": null,
   "metadata": {},
   "outputs": [],
   "source": [
    "# Code cell for your tinkering"
   ]
  },
  {
   "cell_type": "markdown",
   "metadata": {},
   "source": [
    "## Submission\n",
    "\n",
    "Take a screenshot named `lab08_screenshot` showing your code and output of running the code for `exercise 3` and submit it in `Brightspace`. When in `Brightspace`, navigate as follows: `Content` --> `Labs` --> `lab participation (screenshots)`. Submit your screenshots at this location. \n",
    "\n",
    "Note: **There is no `stage` > `commit` > `push` required for this lab!**\n",
    "\n",
    "Submission is due `Sunday, 20th March, 11.55 pm` "
   ]
  }
 ],
 "metadata": {
  "kernelspec": {
   "display_name": "Python 3",
   "language": "python",
   "name": "python3"
  },
  "language_info": {
   "codemirror_mode": {
    "name": "ipython",
    "version": 3
   },
   "file_extension": ".py",
   "mimetype": "text/x-python",
   "name": "python",
   "nbconvert_exporter": "python",
   "pygments_lexer": "ipython3",
   "version": "3.8.7"
  }
 },
 "nbformat": 4,
 "nbformat_minor": 4
}
